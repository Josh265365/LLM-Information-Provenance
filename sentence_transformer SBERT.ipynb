{
 "cells": [
  {
   "cell_type": "code",
   "execution_count": 1,
   "id": "27484bd8",
   "metadata": {},
   "outputs": [],
   "source": [
    "import re\n",
    "\n",
    "# Load the book's text\n",
    "with open('data/TKMBFullBook.txt', 'r', encoding='utf-8') as f:\n",
    "    text = f.read()"
   ]
  },
  {
   "cell_type": "code",
   "execution_count": 2,
   "id": "04a91fe0",
   "metadata": {},
   "outputs": [],
   "source": [
    "chapters = re.split(r'Chapter \\d+', text)\n",
    "if chapters[0].strip() == \"\":\n",
    "    chapters.pop(0) # Remove the empty string before the first chapter"
   ]
  },
  {
   "cell_type": "code",
   "execution_count": 3,
   "id": "64a1de7f",
   "metadata": {},
   "outputs": [
    {
     "name": "stdout",
     "output_type": "stream",
     "text": [
      "Total chunks created: 1673\n",
      "Example chunk: {'chapter': 1, 'chunk_id': '1_51', 'text': 'the Radleys: when Jem would question him Atticus’s only answer was for him to mind his own business and let the Radleys mind theirs, they had a right to; but when it happened Jem said Atticus shook his head and said, “Mm, mm, mm.” So Jem received most of his information from Miss Stephanie Crawford, a neighborhood scold, who said she knew the whole thing. According to Miss Stephanie, Boo was sitting in the livingroom cutting some items from The Maycomb Tribune to paste in his scrapbook. His father entered the room. As Mr. Radley passed by, Boo drove the scissors into his parent’s leg, pulled them out, wiped them on his pants, and resumed his activities. Mrs. Radley ran screaming into the street that Arthur was killing them all, but when the sheriff arrived he found Boo still sitting in the livingroom, cutting up the Tribune. He was thirty-three years old then. Miss Stephanie said old Mr. Radley said no Radley was going to any asylum, when it was suggested that a season in Tuscaloosa might be helpful to Boo. Boo wasn’t crazy, he was high-strung at times. It was all right to shut him up, Mr. Radley conceded, but insisted that Boo not be charged with anything: he was not a criminal. The sheriff hadn’t the heart to put him in jail alongside Negroes, so Boo was locked in the courthouse basement. Boo’s transition from the basement to back home was nebulous in Jem’s memory. Miss Stephanie Crawford said some of the town council told Mr. Radley that if he didn’t take Boo back, Boo would die of mold from the damp. Besides, Boo could not live forever on the bounty of the county. Nobody knew what form of intimidation Mr. Radley employed to keep Boo out of sight, but Jem figured that Mr. Radley kept him chained to the bed most of the time. Atticus said no, it wasn’t that sort of thing, that there were other ways of making people into ghosts. My memory came alive to see Mrs. Radley occasionally open the front door, walk to the edge of the porch, and pour water on her cannas. But every day Jem and I would see Mr. Radley walking to and from town. He was a thin leathery man with'}\n"
     ]
    }
   ],
   "source": [
    "WINDOW = 384  # Number of words in each chunk #200\n",
    "STRIDE = 60 # Number of words to shift for the next chunk # 40\n",
    "\n",
    "def chapter_to_chunks(chapter_text):\n",
    "    # Simple word splitting (preserving original text for transformer tokenizer)\n",
    "    words = chapter_text.split()\n",
    "    chunks = []\n",
    "    \n",
    "    for start in range(0, len(words), STRIDE):\n",
    "        end = start + WINDOW\n",
    "        if end > len(words):\n",
    "            # For the last chunk, take all remaining words\n",
    "            chunk_words = words[start:]\n",
    "        else:\n",
    "            chunk_words = words[start:end]\n",
    "        \n",
    "        # Join the words back into text with single spaces\n",
    "        chunk_text = \" \".join(chunk_words)\n",
    "        chunks.append(chunk_text)\n",
    "    \n",
    "    return chunks\n",
    "\n",
    "all_chunks = []\n",
    "for chap_num, chap_text in enumerate(chapters, start=1):\n",
    "    for i, chunk in enumerate(chapter_to_chunks(chap_text), start=1):\n",
    "        all_chunks.append({\n",
    "            \"chapter\": chap_num,\n",
    "            \"chunk_id\": f\"{chap_num}_{i}\",\n",
    "            \"text\": chunk\n",
    "        })\n",
    "        \n",
    "print(f\"Total chunks created: {len(all_chunks)}\")\n",
    "print(f\"Example chunk: {all_chunks[50]}\")"
   ]
  },
  {
   "cell_type": "code",
   "execution_count": 4,
   "id": "2b918414",
   "metadata": {},
   "outputs": [
    {
     "name": "stderr",
     "output_type": "stream",
     "text": [
      "W0812 01:35:14.177000 48904 torch\\distributed\\elastic\\multiprocessing\\redirects.py:29] NOTE: Redirects are currently not supported in Windows or MacOs.\n"
     ]
    }
   ],
   "source": [
    "from sentence_transformers import SentenceTransformer\n",
    "model = SentenceTransformer('all-mpnet-base-v2')"
   ]
  },
  {
   "cell_type": "code",
   "execution_count": 5,
   "id": "fe506b6d",
   "metadata": {},
   "outputs": [
    {
     "data": {
      "application/vnd.jupyter.widget-view+json": {
       "model_id": "b5b05d9082fb42ea809b9ba46feddb11",
       "version_major": 2,
       "version_minor": 0
      },
      "text/plain": [
       "Batches:   0%|          | 0/53 [00:00<?, ?it/s]"
      ]
     },
     "metadata": {},
     "output_type": "display_data"
    }
   ],
   "source": [
    "texts = [chunk['text'] for chunk in all_chunks]\n",
    "embeddings = model.encode(texts, convert_to_tensor=False, show_progress_bar=True, batch_size=32)"
   ]
  },
  {
   "cell_type": "code",
   "execution_count": 6,
   "id": "6d21f99e",
   "metadata": {},
   "outputs": [
    {
     "data": {
      "text/plain": [
       "array([-1.10698612e-02,  2.98842490e-02,  2.10520942e-02, -2.23328304e-02,\n",
       "       -1.47477062e-02,  2.19944287e-02, -5.79456706e-03, -2.03735996e-02,\n",
       "       -3.41824368e-02, -3.51069979e-02,  3.03402339e-04,  6.35926723e-02,\n",
       "        5.87773584e-02, -4.38749380e-02, -4.03507203e-02,  6.90658838e-02,\n",
       "       -2.00750642e-02,  3.67354229e-02,  4.01172936e-02,  2.88017523e-02,\n",
       "       -2.92388611e-02,  2.72633303e-02,  1.68018900e-02, -4.06044833e-02,\n",
       "        1.24957960e-03,  2.80717164e-02,  3.14317527e-03,  3.81991081e-02,\n",
       "       -1.33653833e-02, -3.70142870e-02, -2.30525732e-02, -1.21566392e-02,\n",
       "       -5.28830141e-02, -5.90099841e-02,  2.55009900e-06,  1.47656482e-02,\n",
       "        1.34951491e-02, -3.01998891e-02, -3.48994806e-02,  1.83912721e-02,\n",
       "        8.74403343e-02,  6.55653775e-02,  7.53659522e-03, -6.02023909e-03,\n",
       "       -5.96989468e-02, -1.26684252e-02, -4.99622189e-02,  6.23056144e-02,\n",
       "       -1.01680048e-02,  3.44442390e-02, -5.47501550e-05,  1.39420209e-02,\n",
       "        7.90802017e-03,  9.88221355e-03,  9.31499526e-02, -1.08701019e-02,\n",
       "        3.43478727e-03,  4.58454788e-02,  9.82042309e-03,  1.13211740e-02,\n",
       "       -2.39695460e-02, -2.70313863e-02, -2.20681205e-02,  4.68255905e-03,\n",
       "       -6.71574175e-02, -1.24247856e-02, -1.60650462e-02,  6.97624907e-02,\n",
       "        5.98583417e-03, -7.28532150e-02,  7.06243515e-02,  2.49231514e-03,\n",
       "       -1.86148391e-04,  5.36600277e-02, -7.97969569e-03, -9.39669739e-03,\n",
       "        4.33170907e-02, -1.66372526e-02, -1.94903854e-02,  1.80791095e-02,\n",
       "        5.72441965e-02, -8.49783141e-03, -4.38160077e-03,  4.40545045e-02,\n",
       "       -5.19142561e-02,  2.89853979e-02, -4.53508226e-03,  6.18793108e-02,\n",
       "       -7.40662292e-02, -1.35190776e-02,  3.71442139e-02, -3.19165923e-02,\n",
       "        4.69360240e-02,  3.37873138e-02,  5.73558686e-03, -2.69860961e-02,\n",
       "       -2.44861357e-02,  2.10024938e-02, -4.58350554e-02,  1.20375203e-02,\n",
       "       -6.91314712e-02, -2.80502476e-02,  5.27759120e-02, -2.31198370e-02,\n",
       "       -2.34064460e-03, -7.78446207e-03, -2.05393462e-03,  1.07785545e-01,\n",
       "        9.29058995e-03,  3.01124565e-02, -7.94337317e-03,  2.09567137e-02,\n",
       "       -1.12035526e-02,  3.66273336e-03,  1.37579665e-02, -5.54507077e-02,\n",
       "        2.40406804e-02, -6.28819019e-02, -3.23585160e-02,  4.48684348e-03,\n",
       "       -1.05949119e-01,  3.35793048e-02,  2.10311729e-02,  3.24590318e-03,\n",
       "        2.91563887e-02, -8.80809352e-02,  3.42041627e-02, -2.96320952e-03,\n",
       "        4.36836807e-03,  3.54273198e-03, -2.91545354e-02, -4.20588851e-02,\n",
       "        1.42299524e-02, -1.75013188e-02,  1.67499494e-03, -3.80661897e-02,\n",
       "        2.20604241e-02,  3.89289930e-02, -4.86132577e-02,  1.58042833e-02,\n",
       "       -6.05165698e-02,  2.15668008e-02, -5.14484607e-02,  3.28886844e-02,\n",
       "       -4.88948971e-02, -2.75231916e-02,  4.02174331e-02, -5.77676110e-02,\n",
       "        3.08054555e-02,  1.62188001e-02, -6.13909168e-03,  3.67819928e-02,\n",
       "        4.37578969e-02,  2.77478341e-03, -1.50332907e-02,  1.26721030e-02,\n",
       "       -3.68243607e-04,  3.15176025e-02,  3.31132151e-02,  1.92707102e-03,\n",
       "        3.36731300e-02,  2.45801150e-03, -3.04684099e-02, -1.46985631e-02,\n",
       "       -3.78585346e-02, -2.86419932e-02, -1.50075154e-02, -6.33685663e-02,\n",
       "        2.96800509e-02,  2.92135105e-02,  1.32659520e-03, -5.06314822e-03,\n",
       "       -4.45775092e-02,  2.75291484e-02,  1.32541973e-02,  4.26347032e-02,\n",
       "        2.06259821e-04, -5.03183082e-02,  1.04739117e-02,  3.25059742e-02,\n",
       "        1.93615109e-02, -7.57237338e-03, -2.63259769e-03, -8.11721981e-02,\n",
       "       -8.91408138e-03, -1.98299140e-02,  5.43538556e-02,  3.08480524e-02,\n",
       "       -3.40018496e-02, -4.01085196e-03, -1.31895710e-02, -4.81834775e-03,\n",
       "       -9.74360928e-02,  3.34659256e-02, -1.05778780e-02, -1.54602025e-02,\n",
       "       -1.95464818e-03, -3.27166393e-02, -1.22772437e-02,  1.42658399e-02,\n",
       "       -1.76597796e-02,  5.07978629e-03, -3.73791158e-02,  5.75659797e-02,\n",
       "        6.67773187e-02,  3.14932019e-02, -1.61293690e-04, -4.66293946e-04,\n",
       "        2.42007878e-02,  1.64871961e-02,  2.60262303e-02,  4.88125766e-03,\n",
       "       -6.87885517e-03, -1.92184579e-02, -2.80708335e-02, -9.02969670e-03,\n",
       "        4.40140488e-03, -2.11233906e-02, -1.18553946e-02,  5.08636013e-02,\n",
       "       -2.54535656e-02,  2.86297705e-02, -4.70881090e-02,  4.59378585e-02,\n",
       "        2.48560756e-02, -5.88485375e-02,  1.25486394e-02, -5.33209220e-02,\n",
       "        5.58038913e-02, -3.36230397e-02,  1.55206043e-02, -1.18688373e-02,\n",
       "       -3.78612080e-03, -5.14237396e-03,  7.31641799e-02, -2.23701224e-02,\n",
       "       -1.18984217e-02,  3.04276627e-02, -1.16545325e-02, -7.46342763e-02,\n",
       "        1.33472933e-02,  8.23490173e-02, -3.34597975e-02, -2.34868508e-02,\n",
       "        2.93130055e-02, -1.32725146e-02,  8.97068977e-02, -3.53935105e-03,\n",
       "       -3.36664096e-02, -3.90200480e-03, -2.11233348e-02, -5.48680015e-02,\n",
       "       -5.22061847e-02,  3.38239931e-02,  2.23580748e-02, -5.43772727e-02,\n",
       "       -4.45736460e-02, -1.63141098e-02,  7.34627098e-02,  2.02891720e-03,\n",
       "       -4.28650044e-02, -3.43264788e-02, -2.33574491e-02, -3.88168842e-02,\n",
       "       -4.70020287e-02, -2.50474792e-02, -2.94625070e-02,  3.58320512e-02,\n",
       "       -1.37023721e-02,  1.26092965e-02, -2.01006439e-02,  3.05570122e-02,\n",
       "       -2.38746684e-03, -1.50057692e-02,  3.51570584e-02,  2.49049962e-02,\n",
       "       -2.28891559e-02,  3.17168683e-02,  3.18022519e-02, -2.10978016e-02,\n",
       "       -5.39366528e-03, -8.23167805e-03,  1.86275039e-03,  2.88624447e-02,\n",
       "       -6.20657057e-02,  3.96633670e-02,  1.03173368e-02,  2.22786143e-03,\n",
       "        3.77501361e-02,  1.27303461e-03,  2.09407881e-03,  6.14121836e-03,\n",
       "       -1.12506025e-03,  2.96139233e-02,  1.42839691e-02, -4.03589904e-02,\n",
       "       -2.94356924e-02,  3.15966527e-03,  1.93462837e-02,  9.31508932e-03,\n",
       "       -1.98841728e-02,  1.35061909e-02,  5.82903111e-03,  7.13929348e-03,\n",
       "       -2.76633538e-02,  9.20043606e-03, -2.09638663e-02, -4.12824601e-02,\n",
       "       -4.39952239e-02, -2.99651758e-03, -3.95534374e-02, -2.61132345e-02,\n",
       "        8.58352147e-03,  8.36766511e-02,  3.67720127e-02, -7.80040994e-02,\n",
       "       -3.72960791e-02, -6.23116121e-02, -4.66222465e-02, -2.23283228e-02,\n",
       "       -2.68002320e-02, -3.63166109e-02, -5.51303960e-02,  2.23087575e-02,\n",
       "        4.34479900e-02,  7.81205110e-03,  5.16570471e-02, -2.56787818e-02,\n",
       "        7.22923726e-02,  1.26829660e-02,  5.60472999e-03, -5.05027175e-02,\n",
       "       -7.54433796e-02,  4.12925445e-02,  7.47514218e-02,  2.03962494e-02,\n",
       "       -4.95973453e-02,  1.86043717e-02,  9.97060351e-03,  1.64864454e-02,\n",
       "        3.66274500e-03,  5.14036641e-02,  4.46373690e-03, -5.72890379e-02,\n",
       "       -5.16006909e-02, -4.83389832e-02, -6.42483996e-04, -2.78546307e-02,\n",
       "       -8.00584443e-03, -3.81378792e-02,  1.78055670e-02, -3.41005288e-02,\n",
       "       -5.03441468e-02, -2.01432984e-02,  3.33309248e-02, -6.92102015e-02,\n",
       "       -2.19216719e-02,  1.74838621e-02,  2.04157289e-02, -8.60268995e-03,\n",
       "       -4.33055963e-03,  1.28170038e-02,  3.01864650e-02,  4.31148149e-02,\n",
       "        4.52296585e-02, -2.52393987e-02,  4.28707600e-02,  1.54098030e-02,\n",
       "        9.63717327e-03,  4.36487123e-02,  1.16297873e-02, -1.59523804e-02,\n",
       "       -3.32074687e-02,  4.78595011e-02,  1.62354819e-02,  2.36496851e-02,\n",
       "        1.20359799e-02, -4.97342460e-03,  4.29884270e-02, -1.90458018e-02,\n",
       "        3.30114663e-02, -2.53828969e-02,  3.61929764e-03, -2.58321222e-03,\n",
       "       -1.10534253e-03,  4.94428575e-02, -9.21418238e-03,  1.27135927e-03,\n",
       "       -2.51197144e-02,  1.22702646e-03,  1.38273174e-02, -6.40655532e-02,\n",
       "       -1.81696210e-02, -2.89806956e-03,  1.08988034e-02, -5.39901317e-04,\n",
       "       -7.18209893e-02,  2.45985445e-02, -6.03149598e-03,  1.11873513e-02,\n",
       "       -3.08400183e-03,  4.57699224e-02,  5.86235859e-02, -3.92110785e-03,\n",
       "        3.02842408e-02, -3.20962556e-02, -4.84157950e-02, -6.48599789e-02,\n",
       "        7.31604313e-03,  6.83221500e-03, -2.32903101e-02,  3.72458398e-02,\n",
       "       -5.57877347e-02,  1.10455956e-02,  6.30971640e-02, -2.29790155e-02,\n",
       "       -3.53165194e-02, -3.23235802e-02, -2.33599357e-02, -3.37961093e-02,\n",
       "        1.59929898e-02, -3.78817804e-02, -5.32194786e-03, -1.88837294e-02,\n",
       "       -8.08526762e-03, -1.23414639e-02,  6.86368644e-02, -3.24071129e-03,\n",
       "        1.30437058e-03, -6.55032415e-03,  4.03428078e-03, -1.90708670e-03,\n",
       "        6.29402371e-03,  5.35087846e-02, -6.60925359e-02, -4.41931859e-02,\n",
       "        1.27331972e-01,  1.75491609e-02, -4.42083776e-02, -6.41654199e-03,\n",
       "        3.50923352e-02,  6.22733310e-03,  6.88228980e-02,  5.12774326e-02,\n",
       "        3.68324742e-02, -5.27355894e-02, -3.97776603e-04, -2.65006814e-02,\n",
       "        1.43669015e-02,  1.33645730e-02, -1.93324517e-02,  9.40541252e-02,\n",
       "       -4.08979319e-03,  1.73642132e-02, -4.83860373e-02,  9.32353362e-03,\n",
       "       -5.90185449e-02,  2.48507503e-02,  1.31156258e-02,  9.00705159e-02,\n",
       "        2.69863568e-02,  3.00824717e-02,  2.98291221e-02, -1.76782347e-02,\n",
       "       -1.15509599e-03, -8.29870813e-03,  1.47092594e-02,  2.51954864e-03,\n",
       "        1.51885441e-02, -6.20889030e-02,  2.14525275e-02, -4.89894394e-03,\n",
       "       -4.49570902e-02,  3.72299738e-02,  8.35057988e-04,  3.17384079e-02,\n",
       "       -4.43610698e-02,  8.44115112e-03,  6.08200692e-02,  5.75860031e-03,\n",
       "       -3.05661149e-02, -1.59731433e-02,  3.59353572e-02, -6.24409504e-02,\n",
       "        4.73057777e-02, -2.52332240e-02, -6.51652925e-03,  1.15316687e-02,\n",
       "        3.65508012e-02, -1.70615874e-02, -1.92627925e-02, -4.42802124e-02,\n",
       "       -5.40808681e-03, -3.16609293e-02, -9.16101318e-03,  6.75437525e-02,\n",
       "        3.76206897e-02,  5.18101752e-02,  3.02994791e-02,  1.52026769e-02,\n",
       "        6.92926114e-03, -2.76743108e-03, -4.03108401e-03,  6.81216195e-02,\n",
       "       -3.39984559e-02,  4.06573787e-02,  2.41407030e-03,  3.83904800e-02,\n",
       "       -1.55121041e-02,  7.36053241e-03, -1.84721127e-02,  2.01010630e-02,\n",
       "       -1.04104385e-01, -5.24900667e-02, -9.60153760e-04, -9.16063637e-02,\n",
       "       -1.44512296e-01, -1.10146226e-02, -2.02770121e-02,  3.28093469e-02,\n",
       "       -3.54482210e-03, -2.56304462e-02,  1.63068082e-02, -3.67462151e-02,\n",
       "        4.49672118e-02, -8.22324771e-04, -9.25419095e-04,  3.03987022e-02,\n",
       "       -1.28203980e-03, -5.10088615e-02, -3.66395898e-02,  1.40138734e-02,\n",
       "        3.73398215e-02,  5.22174232e-04,  1.65304877e-02, -5.48193790e-02,\n",
       "        7.29109868e-02,  2.68292017e-02,  8.28518271e-02,  1.48201957e-02,\n",
       "        1.78567804e-02,  4.74676937e-02,  2.34980490e-02,  1.84299480e-02,\n",
       "        5.70223965e-02, -1.92685165e-02,  1.44204414e-02,  2.32822057e-02,\n",
       "        2.30860077e-02,  5.17858155e-02, -6.34808838e-03,  2.51449049e-02,\n",
       "       -1.73406377e-02, -2.85279676e-02,  2.00818665e-02, -7.00944416e-33,\n",
       "        2.65188832e-02, -5.92495091e-02,  5.29087372e-02,  3.08986604e-02,\n",
       "       -8.43684599e-02,  8.10938142e-03,  2.28006318e-02, -4.26311092e-03,\n",
       "       -3.28256637e-02,  8.90327618e-03, -3.40538137e-02,  4.20332048e-03,\n",
       "        1.26425771e-03,  4.19003479e-02,  3.37795727e-02, -1.59231890e-02,\n",
       "       -7.06587210e-02,  5.23587987e-02,  1.37878116e-02,  1.91593096e-02,\n",
       "        6.17457852e-02,  1.91719038e-03, -3.07125822e-02,  5.60139865e-02,\n",
       "        5.31375226e-05, -1.07435966e-02, -2.73098629e-02, -6.41726553e-02,\n",
       "       -5.13106473e-02, -2.76318565e-02, -5.18094143e-03, -9.46658403e-02,\n",
       "        3.83890234e-03, -5.16265631e-03,  4.59886789e-02,  3.30182835e-02,\n",
       "       -1.73698198e-02,  1.24766594e-02,  4.04532515e-02, -2.78979056e-02,\n",
       "        1.69399586e-02,  1.86225194e-02,  1.57508869e-02,  1.33257657e-02,\n",
       "        1.95984636e-02, -3.37686725e-02, -5.85777499e-03,  9.68806539e-03,\n",
       "       -2.88410783e-02, -5.12188822e-02, -1.90927014e-02,  2.89136264e-02,\n",
       "       -5.45487888e-02, -5.22148572e-02,  2.07919138e-03, -3.19141075e-02,\n",
       "        2.10171659e-03,  4.13330197e-02,  7.30058104e-02,  3.20766158e-02,\n",
       "        7.16520697e-02, -2.73933206e-02, -2.77102254e-02,  5.52119054e-02,\n",
       "       -1.13326889e-02,  2.35637389e-02,  3.49955633e-02,  1.41909495e-02,\n",
       "       -2.88515612e-02, -1.82585772e-02, -1.53370369e-02,  1.76557563e-02,\n",
       "       -2.05303617e-02,  1.57912299e-02,  2.65503358e-02,  1.39458943e-02,\n",
       "        1.68555081e-02,  4.26405594e-02, -3.67895290e-02,  2.30742823e-02,\n",
       "       -1.64662418e-03, -1.90843828e-02,  7.07757520e-03, -1.13264238e-02,\n",
       "       -1.97970923e-02, -2.36548465e-02, -1.34316995e-03,  1.06632844e-01,\n",
       "       -2.03047562e-02, -1.65819395e-02, -1.06012393e-02, -1.28482059e-02,\n",
       "       -3.01539302e-02,  6.98280632e-02, -6.23728707e-03, -7.45827854e-02,\n",
       "       -5.34823677e-03,  3.21680754e-02, -1.67880040e-02, -4.40527834e-02,\n",
       "       -1.84922852e-03,  1.08373305e-02, -1.93546247e-02,  1.79112598e-03,\n",
       "        4.12836075e-02, -2.55127847e-02, -2.35801786e-02,  5.62506448e-03,\n",
       "       -5.30910827e-02, -3.31701711e-02,  2.16316022e-02,  2.26925220e-02,\n",
       "       -2.86583919e-02, -8.45426619e-02,  3.95836718e-02, -1.65868329e-03,\n",
       "        9.60973185e-03,  1.05462484e-02,  1.46788021e-03, -1.04446178e-02,\n",
       "        4.19755690e-02, -1.54384952e-02,  2.65281945e-02,  8.11688043e-03,\n",
       "        1.10968119e-02,  1.12259397e-02,  5.30974343e-02, -2.30612396e-03,\n",
       "       -1.62385609e-02, -4.60824519e-02, -4.64593293e-03, -2.02807318e-02,\n",
       "        3.32724738e-07,  4.44725081e-02, -1.63348839e-02,  2.61634216e-02,\n",
       "       -2.14498453e-02, -1.07715754e-02,  1.58023983e-02,  2.05701850e-02,\n",
       "       -8.88665486e-03,  5.22228256e-02, -4.86389920e-02,  5.42860478e-02,\n",
       "       -7.54174683e-03,  2.87944768e-02, -8.05315841e-03, -1.59859043e-02,\n",
       "       -7.07714930e-02,  9.77362599e-03, -3.88673842e-02,  3.75212841e-02,\n",
       "       -2.67870910e-02,  1.59649253e-02, -2.42694989e-02, -2.39422638e-02,\n",
       "       -2.91683190e-02,  2.90921256e-02,  4.47907709e-02, -5.29163741e-02,\n",
       "       -5.26711047e-02,  2.26344019e-02,  4.76752631e-02, -6.04180694e-02,\n",
       "       -1.00220293e-01, -4.51666377e-02,  4.77301376e-03, -1.86613221e-02,\n",
       "        1.01612499e-02, -1.52943498e-02, -8.04441608e-03, -2.75239497e-02,\n",
       "        7.01313093e-02, -6.82144538e-02,  7.29886023e-03, -1.95414424e-02,\n",
       "        2.73680165e-02,  3.31040509e-02, -5.66050701e-04, -3.02788522e-02,\n",
       "       -6.52947724e-02, -2.53208317e-02,  6.89154863e-02, -1.31121008e-02,\n",
       "        3.39506455e-02, -2.73018014e-02,  5.95298037e-03, -1.29025234e-02,\n",
       "       -1.52801499e-02,  1.86777823e-02, -8.31164196e-02,  2.68523209e-02,\n",
       "        3.35939862e-02,  1.76880509e-02,  2.57685762e-02,  8.43694154e-03,\n",
       "        6.26294166e-02,  3.11984681e-02,  2.28874572e-02, -3.19137052e-02,\n",
       "        2.96896491e-34,  1.60610247e-02, -5.64305745e-02,  5.93545809e-02,\n",
       "       -1.28288416e-03, -6.10476919e-03, -1.99898202e-02,  1.57224350e-02,\n",
       "       -3.52415778e-02,  3.93665507e-02, -1.89127866e-02,  1.23164337e-03],\n",
       "      dtype=float32)"
      ]
     },
     "execution_count": 6,
     "metadata": {},
     "output_type": "execute_result"
    }
   ],
   "source": [
    "embeddings[1]  # Example to show the embedding of the second chunk"
   ]
  },
  {
   "cell_type": "code",
   "execution_count": 7,
   "id": "f99970ac",
   "metadata": {},
   "outputs": [
    {
     "data": {
      "text/plain": [
       "(1673, 768)"
      ]
     },
     "execution_count": 7,
     "metadata": {},
     "output_type": "execute_result"
    }
   ],
   "source": [
    "embeddings.shape"
   ]
  },
  {
   "cell_type": "markdown",
   "id": "42d92a48",
   "metadata": {},
   "source": [
    "Indexing the data with FIASS"
   ]
  },
  {
   "cell_type": "code",
   "execution_count": 8,
   "id": "1ca53173",
   "metadata": {},
   "outputs": [],
   "source": [
    "import faiss\n",
    "import numpy as np\n",
    "\n",
    "# Convert to float32 (FAISS requires it)\n",
    "embedding_matrix = np.array(embeddings).astype('float32')\n",
    "\n",
    "# Build index (L2 or cosine - we'll use cosine)\n",
    "dimension = embedding_matrix.shape[1]\n",
    "index = faiss.IndexFlatIP(dimension)  # Inner Product = Cosine similarity (after normalization)\n",
    "\n",
    "# Normalize for cosine similarity\n",
    "faiss.normalize_L2(embedding_matrix)\n",
    "\n",
    "# Add vectors\n",
    "index.add(embedding_matrix)\n"
   ]
  },
  {
   "cell_type": "code",
   "execution_count": 9,
   "id": "735adca5",
   "metadata": {},
   "outputs": [],
   "source": [
    "def search_faiss(query, top_k=5):\n",
    "    # Encode and normalize query\n",
    "    query_vec = model.encode([query], convert_to_numpy=True)\n",
    "    faiss.normalize_L2(query_vec)\n",
    "\n",
    "    # Search index\n",
    "    scores, indices = index.search(query_vec, top_k)\n",
    "\n",
    "    # Retrieve the corresponding chunks\n",
    "    results = []\n",
    "    for i, score in zip(indices[0], scores[0]):\n",
    "        result = {\n",
    "            \"chunk_id\": all_chunks[i][\"chunk_id\"],\n",
    "            \"chapter\": all_chunks[i][\"chapter\"],\n",
    "            \"text\": all_chunks[i][\"text\"],\n",
    "            \"score\": float(score)\n",
    "        }\n",
    "        results.append(result)\n",
    "    \n",
    "    return results\n"
   ]
  },
  {
   "cell_type": "markdown",
   "id": "3218bdc4",
   "metadata": {},
   "source": [
    "LLM to Query"
   ]
  },
  {
   "cell_type": "code",
   "execution_count": 10,
   "id": "abaffbd7",
   "metadata": {},
   "outputs": [],
   "source": [
    "import openai\n",
    "from openai import OpenAI\n",
    "import os\n",
    "\n",
    "# Set up OpenAI API key\n",
    "#openai.api_key = os.getenv(\"OPENAI_API_KEY\")  # Ensure you have set this environment variable\n",
    "\n",
    "client = OpenAI(api_key = os.environ.get(\"OPENAI_API_KEY\"))\n",
    "\n",
    "#generate text\n",
    "def generate_text(prompt: str) -> str:\n",
    "    \"\"\"Generates text using the OpenAI API based on the provided prompt.\"\"\"\n",
    "    \n",
    "    # Make the API call\n",
    "    response = client.chat.completions.create(\n",
    "        model=\"gpt-4.1-mini\",  # A powerful and cost-effective choice\n",
    "        messages=[{\"role\": \"system\", \"content\": \"You are a creative short story writer who writes stories in a specified book style and answer questions based on it.\"},\n",
    "                  {\"role\": \"user\", \"content\": prompt}],\n",
    "        temperature=0.7,  # Adjust temperature for creativity\n",
    "    )\n",
    "    \n",
    "    return response.choices[0].message.content.strip()"
   ]
  },
  {
   "cell_type": "code",
   "execution_count": 11,
   "id": "7d66e1d1",
   "metadata": {},
   "outputs": [
    {
     "name": "stdout",
     "output_type": "stream",
     "text": [
      "That summer in Manchester was unlike any other. The rain, usually a steady companion, had taken a rare holiday, leaving the city bathed in an unbroken stretch of sunshine. Jem and I, not much older than Scout and Jem Finch, roamed the red-brick streets like explorers charting unknown lands. Our playground was the cobbled alleys of Ancoats, where the scent of fresh bread mingled with the distant hum of factory whistles.\n",
      "\n",
      "Mrs. Thompson, the elderly neighbor, watched us with a knowing smile, her eyes reflecting stories of a Manchester long past. She told us about the cotton mills and the voices of workers who forged the city’s soul. We listened, wide-eyed, while the afternoon sun painted golden patterns on the walls.\n",
      "\n",
      "One day, we found a stray dog near the canal, skinny and wary. Jem wanted to leave it, but I saw something familiar in its cautious eyes—a survivor, just like us. We named him Scout and brought him home, a small act of kindness in a world that often forgot the gentle things.\n",
      "\n",
      "That summer, beneath the endless sky, we learned that courage wasn’t just in grand gestures but in the quiet moments of compassion that stitched our city—and our hearts—together.\n"
     ]
    }
   ],
   "source": [
    "generated_text = generate_text(\"In 200 words, write a short story in the style of 'To Kill a Mockingbird' about a summer in manchester, UK.\")\n",
    "print(generated_text)"
   ]
  },
  {
   "cell_type": "code",
   "execution_count": 12,
   "id": "2dd7c681",
   "metadata": {},
   "outputs": [
    {
     "name": "stdout",
     "output_type": "stream",
     "text": [
      "Chapter 9 | Chunk 9_35 | Score: 0.705\n",
      "was a two-storied white house with porches circling it upstairs and downstairs. In his old age, our ancestor Simon Finch had built it to please his nagging wife; but with the porches all resemblance to ordinary houses of its era ended. The internal arrangements of the Finch house were indicative of Simon’s guilelessness and the absolute trust with which he regarded his offspring. There were six bedrooms upstairs, four for the eight female children, one for Welcome Finch, the sole son, and one for visiting relatives. Simple enough; but the daughters’ rooms could be reached only by one staircase, Welcome’s room and the guestroom only by another. The Daughters’ Staircase was in the ground floor bedroom of their parents, so Simon always knew the hours of his daughters’ nocturnal comings and goings. There was a kitchen separate from the rest of the house, tacked onto it by a wooden catwalk; in the back yard was a rusty bell on a pole, used to summon field hands or as a distress signal; a widow’s walk was on the roof, but no widows walked there—from it, Simon oversaw his overseer, watched the river-boats, and gazed into the lives of surrounding landholders. There went with the house the usual legend about the Yankees: one Finch female, recently engaged, donned her complete trousseau to save it from raiders in the neighborhood; she became stuck in the door to the Daughters’ Staircase but was doused with water and finally pushed through. When we arrived at the Landing, Aunt Alexandra kissed Uncle Jack, Francis kissed Uncle Jack, Uncle Jimmy shook hands silently with Uncle Jack, Jem and I gave our presents to Francis, who gave us a present. Jem felt his age and gravitated to the adults, leaving me to entertain our cousin. Francis was eight and slicked back his hair. “What’d you get for Christmas?” I asked politely. “Just what I asked for,” he said. Francis had requested a pair of knee-pants, a red leather booksack, five shirts and an untied bow tie. “That’s nice,” I lied. “Jem and me got air rifles, and Jem got a chemistry set—” “A toy one, I reckon.” “No, a real one. He’s gonna make me some invisible ink, and I’m gonna write to Dill in it.” Francis asked what was the use\n",
      "---\n",
      "Chapter 31 | Chunk 31_12 | Score: 0.699\n",
      "sad. I turned to go home. Street lights winked down the street all the way to town. I had never seen our neighborhood from this angle. There were Miss Maudie’s, Miss Stephanie’s—there was our house, I could see the porch swing—Miss Rachel’s house was beyond us, plainly visible. I could even see Mrs. Dubose’s. I looked behind me. To the left of the brown door was a long shuttered window. I walked to it, stood in front of it, and turned around. In daylight, I thought, you could see to the postoffice corner. Daylight… in my mind, the night faded. It was daytime and the neighborhood was busy. Miss Stephanie Crawford crossed the street to tell the latest to Miss Rachel. Miss Maudie bent over her azaleas. It was summertime, and two children scampered down the sidewalk toward a man approaching in the distance. The man waved, and the children raced each other to him. It was still summertime, and the children came closer. A boy trudged down the sidewalk dragging a fishingpole behind him. A man stood waiting with his hands on his hips. Summertime, and his children played in the front yard with their friend, enacting a strange little drama of their own invention. It was fall, and his children fought on the sidewalk in front of Mrs. Dubose’s. The boy helped his sister to her feet, and they made their way home. Fall, and his children trotted to and fro around the corner, the day’s woes and triumphs on their faces. They stopped at an oak tree, delighted, puzzled, apprehensive. Winter, and his children shivered at the front gate, silhouetted against a blazing house. Winter, and a man walked into the street, dropped his glasses, and shot a dog. Summer, and he watched his children’s heart break. Autumn again, and Boo’s children needed him. Atticus was right. One time he said you never really know a man until you stand in his shoes and walk around in them. Just standing on the Radley porch was enough. The street lights were fuzzy from the fine rain that was falling. As I made my way home, I felt very old, but when I looked at the tip of my nose I could see fine misty beads, but looking cross-eyed made me dizzy so\n",
      "---\n",
      "Chapter 1 | Chunk 1_14 | Score: 0.690\n",
      "During his first five years in Maycomb, Atticus practiced economy more than anything; for several years thereafter he invested his earnings in his brother’s education. John Hale Finch was ten years younger than my father, and chose to study medicine at a time when cotton was not worth growing; but after getting Uncle Jack started, Atticus derived a reasonable income from the law. He liked Maycomb, he was Maycomb County born and bred; he knew his people, they knew him, and because of Simon Finch’s industry, Atticus was related by blood or marriage to nearly every family in the town. Maycomb was an old town, but it was a tired old town when I first knew it. In rainy weather the streets turned to red slop; grass grew on the sidewalks, the courthouse sagged in the square. Somehow, it was hotter then: a black dog suffered on a summer’s day; bony mules hitched to Hoover carts flicked flies in the sweltering shade of the live oaks on the square. Men’s stiff collars wilted by nine in the morning. Ladies bathed before noon, after their three-o’clock naps, and by nightfall were like soft teacakes with frostings of sweat and sweet talcum. People moved slowly then. They ambled across the square, shuffled in and out of the stores around it, took their time about everything. A day was twenty-four hours long but seemed longer. There was no hurry, for there was nowhere to go, nothing to buy and no money to buy it with, nothing to see outside the boundaries of Maycomb County. But it was a time of vague optimism for some of the people: Maycomb County had recently been told that it had nothing to fear but fear itself. We lived on the main residential street in town— Atticus, Jem and I, plus Calpurnia our cook. Jem and I found our father satisfactory: he played with us, read to us, and treated us with courteous detachment. Calpurnia was something else again. She was all angles and bones; she was nearsighted; she squinted; her hand was wide as a bed slat and twice as hard. She was always ordering me out of the kitchen, asking me why I couldn’t behave as well as Jem when she knew he was older, and calling me home when\n",
      "---\n",
      "Chapter 6 | Chunk 6_11 | Score: 0.684\n",
      "the daytime, did I understand? “Jem, please—” “Scout, I’m tellin‘ you for the last time, shut your trap or go home—I declare to the Lord you’re gettin’ more like a girl every day!” With that, I had no option but to join them. We thought it was better to go under the high wire fence at the rear of the Radley lot, we stood less chance of being seen. The fence enclosed a large garden and a narrow wooden outhouse. Jem held up the bottom wire and motioned Dill under it. I followed, and held up the wire for Jem. It was a tight squeeze for him. “Don’t make a sound,” he whispered. “Don’t get in a row of collards whatever you do, they’ll wake the dead.” With this thought in mind, I made perhaps one step per minute. I moved faster when I saw Jem far ahead beckoning in the moonlight. We came to the gate that divided the garden from the back yard. Jem touched it. The gate squeaked. “Spit on it,” whispered Dill. “You’ve got us in a box, Jem,” I muttered. “We can’t get out of here so easy.” “Sh-h. Spit on it, Scout.” We spat ourselves dry, and Jem opened the gate slowly, lifting it aside and resting it on the fence. We were in the back yard. The back of the Radley house was less inviting than the front: a ramshackle porch ran the width of the house; there were two doors and two dark windows between the doors. Instead of a column, a rough two-by-four supported one end of the roof. An old Franklin stove sat in a corner of the porch; above it a hat-rack mirror caught the moon and shone eerily. “Ar-r,” said Jem softly, lifting his foot. “‘Smatter?” “Chickens,” he breathed. That we would be obliged to dodge the unseen from all directions was confirmed when Dill ahead of us spelled G-o-d in a whisper. We crept to the side of the house, around to the window with the hanging shutter. The sill was several inches taller than Jem. “Give you a hand up,” he muttered to Dill. “Wait, though.” Jem grabbed his left wrist and my right wrist, I grabbed my left wrist and Jem’s right wrist, we crouched, and Dill sat on\n",
      "---\n",
      "Chapter 1 | Chunk 1_22 | Score: 0.683\n",
      "years later I was born, and two years later our mother died from a sudden heart attack. They said it ran in her family. I did not miss her, but I think Jem did. He remembered her clearly, and sometimes in the middle of a game he would sigh at length, then go off and play by himself behind the car-house. When he was like that, I knew better than to bother him. When I was almost six and Jem was nearly ten, our summertime boundaries (within calling distance of Calpurnia) were Mrs. Henry Lafayette Dubose’s house two doors to the north of us, and the Radley Place three doors to the south. We were never tempted to break them. The Radley Place was inhabited by an unknown entity the mere description of whom was enough to make us behave for days on end; Mrs. Dubose was plain hell. That was the summer Dill came to us. Early one morning as we were beginning our day’s play in the back yard, Jem and I heard something next door in Miss Rachel Haverford’s collard patch. We went to the wire fence to see if there was a puppy— Miss Rachel’s rat terrier was expecting— instead we found someone sitting looking at us. Sitting down, he wasn’t much higher than the collards. We stared at him until he spoke: “Hey.” “Hey yourself,” said Jem pleasantly. “I’m Charles Baker Harris,” he said. “I can read.” “So what?” I said. “I just thought you’d like to know I can read. You got anything needs readin‘ I can do it…” “How old are you,” asked Jem, “four-and-a-half?” “Goin‘ on seven.” “Shoot no wonder, then,” said Jem, jerking his thumb at me. “Scout yonder’s been readin‘ ever since she was born, and she ain’t even started to school yet. You look right puny for goin’ on seven.” “I’m little but I’m old,” he said. Jem brushed his hair back to get a better look. “Why don’t you come over, Charles Baker Harris?” he said. “Lord, what a name.” “‘s not any funnier’n yours. Aunt Rachel says your name’s Jeremy Atticus Finch.” Jem scowled. “I’m big enough to fit mine,” he said. “Your name’s longer’n you are. Bet it’s a foot longer.” “Folks call me Dill,” said Dill, struggling under the\n",
      "---\n",
      "Chapter 31 | Chunk 31_10 | Score: 0.679\n",
      "I had made this journey, but I entered the Radley front gate for the second time in my life. Boo and I walked up the steps to the porch. His fingers found the front doorknob. He gently released my hand, opened the door, went inside, and shut the door behind him. I never saw him again. Neighbors bring food with death and flowers with sickness and little things in between. Boo was our neighbor. He gave us two soap dolls, a broken watch and chain, a pair of good-luck pennies, and our lives. But neighbors give in return. We never put back into the tree what we took out of it: we had given him nothing, and it made me sad. I turned to go home. Street lights winked down the street all the way to town. I had never seen our neighborhood from this angle. There were Miss Maudie’s, Miss Stephanie’s—there was our house, I could see the porch swing—Miss Rachel’s house was beyond us, plainly visible. I could even see Mrs. Dubose’s. I looked behind me. To the left of the brown door was a long shuttered window. I walked to it, stood in front of it, and turned around. In daylight, I thought, you could see to the postoffice corner. Daylight… in my mind, the night faded. It was daytime and the neighborhood was busy. Miss Stephanie Crawford crossed the street to tell the latest to Miss Rachel. Miss Maudie bent over her azaleas. It was summertime, and two children scampered down the sidewalk toward a man approaching in the distance. The man waved, and the children raced each other to him. It was still summertime, and the children came closer. A boy trudged down the sidewalk dragging a fishingpole behind him. A man stood waiting with his hands on his hips. Summertime, and his children played in the front yard with their friend, enacting a strange little drama of their own invention. It was fall, and his children fought on the sidewalk in front of Mrs. Dubose’s. The boy helped his sister to her feet, and they made their way home. Fall, and his children trotted to and fro around the corner, the day’s woes and triumphs on their faces. They stopped at an oak tree, delighted, puzzled, apprehensive. Winter,\n",
      "---\n",
      "Chapter 8 | Chunk 8_39 | Score: 0.676\n",
      "was rolling off our house and Miss Rachel’s house like fog off a riverbank, and men were pulling hoses toward them. Behind us, the fire truck from Abbottsville screamed around the curve and stopped in front of our house. “That book…” I said. “What?” said Jem. “That Tom Swift book, it ain’t mine, it’s Dill’s…” “Don’t worry, Scout, it ain’t time to worry yet,” said Jem. He pointed. “Looka yonder.” In a group of neighbors, Atticus was standing with his hands in his overcoat pockets. He might have been watching a football game. Miss Maudie was beside him. “See there, he’s not worried yet,” said Jem. “Why ain’t he on top of one of the houses?” “He’s too old, he’d break his neck.” “You think we oughta make him get our stuff out?” “Let’s don’t pester him, he’ll know when it’s time,” said Jem. The Abbottsville fire truck began pumping water on our house; a man on the roof pointed to places that needed it most. I watched our Absolute Morphodite go black and crumble; Miss Maudie’s sunhat settled on top of the heap. I could not see her hedge-clippers. In the heat between our house, Miss Rachel’s and Miss Maudie’s, the men had long ago shed coats and bathrobes. They worked in pajama tops and nightshirts stuffed into their pants, but I became aware that I was slowly freezing where I stood. Jem tried to keep me warm, but his arm was not enough. I pulled free of it and clutched my shoulders. By dancing a little, I could feel my feet. Another fire truck appeared and stopped in front of Miss Stephanie Crawford’s. There was no hydrant for another hose, and the men tried to soak her house with hand extinguishers. Miss Maudie’s tin roof quelled the flames. Roaring, the house collapsed; fire gushed everywhere, followed by a flurry of blankets from men on top of the adjacent houses, beating out sparks and burning chunks of wood. It was dawn before the men began to leave, first one by one, then in groups. They pushed the Maycomb fire truck back to town, the Abbottsville truck departed, the third one remained. We found out next day it had come from Clark’s Ferry, sixty miles away. Jem and I slid across the street. Miss\n",
      "---\n",
      "Chapter 26 | Chunk 26_1 | Score: 0.674\n",
      "School started, and so did our daily trips past the Radley Place. Jem was in the seventh grade and went to high school, beyond the grammar-school building; I was now in the third grade, and our routines were so different I only walked to school with Jem in the mornings and saw him at mealtimes. He went out for football, but was too slender and too young yet to do anything but carry the team water buckets. This he did with enthusiasm; most afternoons he was seldom home before dark. The Radley Place had ceased to terrify me, but it was no less gloomy, no less chilly under its great oaks, and no less uninviting. Mr. Nathan Radley could still be seen on a clear day, walking to and from town; we knew Boo was there, for the same old reason—nobody’d seen him carried out yet. I sometimes felt a twinge of remorse, when passing by the old place, at ever having taken part in what must have been sheer torment to Arthur Radley—what reasonable recluse wants children peeping through his shutters, delivering greetings on the end of a fishing pole, wandering in his collards at night? And yet I remembered. Two Indian-head pennies, chewing gum, soap dolls, a rusty medal, a broken watch and chain. Jem must have put them away somewhere. I stopped and looked at the tree one afternoon: the trunk was swelling around its cement patch. The patch itself was turning yellow. We had almost seen him a couple of times, a good enough score for anybody. But I still looked for him each time I went by. Maybe someday we would see him. I imagined how it would be: when it happened, he’d just be sitting in the swing when I came along. “Hidy do, Mr. Arthur,” I would say, as if I had said it every afternoon of my life. “Evening, Jean Louise,” he would say, as if he had said it every afternoon of my life, “right pretty spell we’re having, isn’t it?” “Yes sir, right pretty,” I would say, and go on. It was only a fantasy. We would never see him. He probably did go out when the moon was down and gaze upon Miss Stephanie Crawford. I’d have picked somebody else to look at,\n",
      "---\n",
      "Chapter 6 | Chunk 6_1 | Score: 0.668\n",
      "“Yes,” said our father, when Jem asked him if we could go over and sit by Miss Rachel’s fishpool with Dill, as this was his last night in Maycomb. “Tell him so long for me, and we’ll see him next summer.” We leaped over the low wall that separated Miss Rachel’s yard from our driveway. Jem whistled bob-white and Dill answered in the darkness. “Not a breath blowing,” said Jem. “Looka yonder.” He pointed to the east. A gigantic moon was rising behind Miss Maudie’s pecan trees. “That makes it seem hotter,” he said. “Cross in it tonight?” asked Dill, not looking up. He was constructing a cigarette from newspaper and string. “No, just the lady. Don’t light that thing, Dill, you’ll stink up this whole end of town.” There was a lady in the moon in Maycomb. She sat at a dresser combing her hair. “We’re gonna miss you, boy,” I said. “Reckon we better watch for Mr. Avery?” Mr. Avery boarded across the street from Mrs. Henry Lafayette Dubose’s house. Besides making change in the collection plate every Sunday, Mr. Avery sat on the porch every night until nine o’clock and sneezed. One evening we were privileged to witness a performance by him which seemed to have been his positively last, for he never did it again so long as we watched. Jem and I were leaving Miss Rachel’s front steps one night when Dill stopped us: “Golly, looka yonder.” He pointed across the street. At first we saw nothing but a kudzu-covered front porch, but a closer inspection revealed an arc of water descending from the leaves and splashing in the yellow circle of the street light, some ten feet from source to earth, it seemed to us. Jem said Mr. Avery misfigured, Dill said he must drink a gallon a day, and the ensuing contest to determine relative distances and respective prowess only made me feel left out again, as I was untalented in this area. Dill stretched, yawned, and said altogether too casually. “I know what, let’s go for a walk.” He sounded fishy to me. Nobody in Maycomb just went for a walk. “Where to, Dill?” Dill jerked his head in a southerly direction. Jem said, “Okay.” When I protested, he said sweetly, “You don’t have to come\n",
      "---\n",
      "Chapter 11 | Chunk 11_17 | Score: 0.658\n",
      "you doing in those overalls? You should be in a dress and camisole, young lady! You’ll grow up waiting on tables if somebody doesn’t change your ways—a Finch waiting on tables at the O.K. Café—hah!” I was terrified. The O.K. Café was a dim organization on the north side of the square. I grabbed Jem’s hand but he shook me loose. “Come on, Scout,” he whispered. “Don’t pay any attention to her, just hold your head high and be a gentleman.” But Mrs. Dubose held us: “Not only a Finch waiting on tables but one in the courthouse lawing for niggers!” Jem stiffened. Mrs. Dubose’s shot had gone home and she knew it: “Yes indeed, what has this world come to when a Finch goes against his raising? I’ll tell you!” She put her hand to her mouth. When she drew it away, it trailed a long silver thread of saliva. “Your father’s no better than the niggers and trash he works for!” Jem was scarlet. I pulled at his sleeve, and we were followed up the sidewalk by a philippic on our family’s moral degeneration, the major premise of which was that half the Finches were in the asylum anyway, but if our mother were living we would not have come to such a state. I wasn’t sure what Jem resented most, but I took umbrage at Mrs. Dubose’s assessment of the family’s mental hygiene. I had become almost accustomed to hearing insults aimed at Atticus. But this was the first one coming from an adult. Except for her remarks about Atticus, Mrs. Dubose’s attack was only routine. There was a hint of summer in the air—in the shadows it was cool, but the sun was warm, which meant good times coming: no school and Dill. Jem bought his steam engine and we went by Elmore’s for my baton. Jem took no pleasure in his acquisition; he jammed it in his pocket and walked silently beside me toward home. On the way home I nearly hit Mr. Link Deas, who said, “Look out now, Scout!” when I missed a toss, and when we approached Mrs. Dubose’s house my baton was grimy from having picked it up out of the dirt so many times. She was not on the porch. In later years, I\n",
      "---\n"
     ]
    }
   ],
   "source": [
    "query = generated_text\n",
    "top_results = search_faiss(query, top_k=10)\n",
    "\n",
    "for res in top_results:\n",
    "    print(f\"Chapter {res['chapter']} | Chunk {res['chunk_id']} | Score: {res['score']:.3f}\")\n",
    "    print(res['text'])\n",
    "    print(\"---\")\n"
   ]
  },
  {
   "cell_type": "markdown",
   "id": "f44604e9",
   "metadata": {},
   "source": [
    "Cross Encoder Reranking with FAISS"
   ]
  },
  {
   "cell_type": "code",
   "execution_count": 13,
   "id": "71aaafe0",
   "metadata": {},
   "outputs": [],
   "source": [
    "from sentence_transformers import CrossEncoder\n",
    "_reranker = None\n",
    "\n",
    "def get_reranker():\n",
    "    global _reranker\n",
    "    if _reranker is None:\n",
    "        _reranker = CrossEncoder('cross-encoder/ms-marco-MiniLM-L-6-v2')\n",
    "    return _reranker"
   ]
  },
  {
   "cell_type": "code",
   "execution_count": null,
   "id": "ef87ed5f",
   "metadata": {},
   "outputs": [],
   "source": [
    "# FAISS -> Cross-Encoder re-ranking\n",
    "# topN: how many candidates to pull from FAISS before re-ranking\n",
    "# final_topk: how many to return after re-ranking\n",
    "\n",
    "from collections import defaultdict\n",
    "\n",
    "def search_faiss_rerank(query, topN=100, final_topk=10, group_by_chapter=True, per_chapter=3, batch_size=32):\n",
    "    # 1) Retrieve candidates with FAISS\n",
    "    import faiss\n",
    "    q = model.encode([query], convert_to_numpy=True)\n",
    "    faiss.normalize_L2(q)\n",
    "    scores, idxs = index.search(q, topN)\n",
    "\n",
    "    candidates = []\n",
    "    for j, i in enumerate(idxs[0]):\n",
    "        candidates.append({\n",
    "            \"chunk_id\": all_chunks[i][\"chunk_id\"],\n",
    "            \"chapter\": all_chunks[i][\"chapter\"],\n",
    "            \"text\": all_chunks[i][\"text\"],\n",
    "            \"retrieval_score\": float(scores[0][j]),\n",
    "            \"_idx\": int(i)\n",
    "        })\n",
    "\n",
    "    if not candidates:\n",
    "        return []\n",
    "      # 2) Re-rank with cross-encoder\n",
    "    ce = get_reranker()\n",
    "    pairs = [(query, c[\"text\"]) for c in candidates]\n",
    "    ce_scores = ce.predict(pairs, batch_size=batch_size)\n",
    "    for c, s in zip(candidates, ce_scores):\n",
    "        c[\"ce_score\"] = float(s)\n",
    "\n",
    "    # 3) Sort by CE score and slice\n",
    "    candidates.sort(key=lambda x: x[\"ce_score\"], reverse=True)\n",
    "    top = candidates[:final_topk]\n",
    "\n",
    "    if not group_by_chapter:\n",
    "        return top\n",
    "\n",
    "    # 4) chapter-aware grouping\n",
    "    buckets = defaultdict(list)\n",
    "    \n",
    "    for c in top:\n",
    "        buckets[c[\"chapter\"]].append(c)\n",
    "\n",
    "    cards = []\n",
    "    for chap, items in buckets.items():\n",
    "        items.sort(key=lambda x: x[\"ce_score\"], reverse=True)\n",
    "        chapter_score = max(i[\"ce_score\"] for i in items)\n",
    "        cards.append({\n",
    "            \"chapter\": chap,\n",
    "            \"chapter_score\": chapter_score,\n",
    "            \"chunks\": items[:per_chapter]\n",
    "        })\n",
    "\n",
    "    cards.sort(key=lambda x: x[\"chapter_score\"], reverse=True)\n",
    "    return cards\n"
   ]
  },
  {
   "cell_type": "code",
   "execution_count": 15,
   "id": "0b321a3b",
   "metadata": {},
   "outputs": [],
   "source": [
    "Rerank_results = search_faiss_rerank(generated_text, topN=100, final_topk=10, group_by_chapter=True, per_chapter=3, batch_size=32)"
   ]
  },
  {
   "cell_type": "code",
   "execution_count": 16,
   "id": "a9b7b131",
   "metadata": {},
   "outputs": [],
   "source": [
    "#search_faiss_rerank\n",
    "#sort the results by retrieval score\n",
    "Rerank_results.sort(key=lambda x: x['chapter_score'], reverse=False)"
   ]
  },
  {
   "cell_type": "code",
   "execution_count": 17,
   "id": "b7485d03",
   "metadata": {},
   "outputs": [
    {
     "data": {
      "text/plain": [
       "[{'chapter': 5,\n",
       "  'chapter_score': -7.330019950866699,\n",
       "  'chunks': [{'chunk_id': '5_11',\n",
       "    'chapter': 5,\n",
       "    'text': 'they paused in their pursuits: we reaped the benefits of a talent Miss Maudie had hitherto kept hidden from us. She made the best cakes in the neighborhood. When she was admitted into our confidence, every time she baked she made a big cake and three little ones, and she would call across the street: “Jem Finch, Scout Finch, Charles Baker Harris, come here!” Our promptness was always rewarded. In summertime, twilights are long and peaceful. Often as not, Miss Maudie and I would sit silently on her porch, watching the sky go from yellow to pink as the sun went down, watching flights of martins sweep low over the neighborhood and disappear behind the schoolhouse rooftops. “Miss Maudie,” I said one evening, “do you think Boo Radley’s still alive?” “His name’s Arthur and he’s alive,” she said. She was rocking slowly in her big oak chair. “Do you smell my mimosa? It’s like angels’ breath this evening.” “Yessum. How do you know?” “Know what, child?” “That B—Mr. Arthur’s still alive?” “What a morbid question. But I suppose it’s a morbid subject. I know he’s alive, Jean Louise, because I haven’t seen him carried out yet.” “Maybe he died and they stuffed him up the chimney.” “Where did you get such a notion?” “That’s what Jem said he thought they did.” “S-ss-ss. He gets more like Jack Finch every day.” Miss Maudie had known Uncle Jack Finch, Atticus’s brother, since they were children. Nearly the same age, they had grown up together at Finch’s Landing. Miss Maudie was the daughter of a neighboring landowner, Dr. Frank Buford. Dr. Buford’s profession was medicine and his obsession was anything that grew in the ground, so he stayed poor. Uncle Jack Finch confined his passion for digging to his window boxes in Nashville and stayed rich. We saw Uncle Jack every Christmas, and every Christmas he yelled across the street for Miss Maudie to come marry him. Miss Maudie would yell back, “Call a little louder, Jack Finch, and they’ll hear you at the post office, I haven’t heard you yet!” Jem and I thought this a strange way to ask for a lady’s hand in marriage, but then Uncle Jack was rather strange. He said he was trying to get Miss Maudie’s goat, that he had',\n",
       "    'retrieval_score': 0.6325445175170898,\n",
       "    '_idx': 246,\n",
       "    'ce_score': -7.330019950866699},\n",
       "   {'chunk_id': '5_3',\n",
       "    'chapter': 5,\n",
       "    'text': 'the only girl he would ever love, then he neglected me. I beat him up twice but it did no good, he only grew closer to Jem. They spent days together in the treehouse plotting and planning, calling me only when they needed a third party. But I kept aloof from their more foolhardy schemes for a while, and on pain of being called a girl, I spent most of the remaining twilights that summer sitting with Miss Maudie Atkinson on her front porch. Jem and I had always enjoyed the free run of Miss Maudie’s yard if we kept out of her azaleas, but our contact with her was not clearly defined. Until Jem and Dill excluded me from their plans, she was only another lady in the neighborhood, but a relatively benign presence. Our tacit treaty with Miss Maudie was that we could play on her lawn, eat her scuppernongs if we didn’t jump on the arbor, and explore her vast back lot, terms so generous we seldom spoke to her, so careful were we to preserve the delicate balance of our relationship, but Jem and Dill drove me closer to her with their behavior. Miss Maudie hated her house: time spent indoors was time wasted. She was a widow, a chameleon lady who worked in her flower beds in an old straw hat and men’s coveralls, but after her five o’clock bath she would appear on the porch and reign over the street in magisterial beauty. She loved everything that grew in God’s earth, even the weeds. With one exception. If she found a blade of nut grass in her yard it was like the Second Battle of the Marne: she swooped down upon it with a tin tub and subjected it to blasts from beneath with a poisonous substance she said was so powerful it’d kill us all if we didn’t stand out of the way. “Why can’t you just pull it up?” I asked, after witnessing a prolonged campaign against a blade not three inches high. “Pull it up, child, pull it up?” She picked up the limp sprout and squeezed her thumb up its tiny stalk. Microscopic grains oozed out. “Why, one sprig of nut grass can ruin a whole yard. Look here. When it comes fall this',\n",
       "    'retrieval_score': 0.6104497909545898,\n",
       "    '_idx': 238,\n",
       "    'ce_score': -7.551354885101318}]},\n",
       " {'chapter': 31,\n",
       "  'chapter_score': -7.074382781982422,\n",
       "  'chunks': [{'chunk_id': '31_16',\n",
       "    'chapter': 31,\n",
       "    'text': 'to and fro around the corner, the day’s woes and triumphs on their faces. They stopped at an oak tree, delighted, puzzled, apprehensive. Winter, and his children shivered at the front gate, silhouetted against a blazing house. Winter, and a man walked into the street, dropped his glasses, and shot a dog. Summer, and he watched his children’s heart break. Autumn again, and Boo’s children needed him. Atticus was right. One time he said you never really know a man until you stand in his shoes and walk around in them. Just standing on the Radley porch was enough. The street lights were fuzzy from the fine rain that was falling. As I made my way home, I felt very old, but when I looked at the tip of my nose I could see fine misty beads, but looking cross-eyed made me dizzy so I quit. As I made my way home, I thought what a thing to tell Jem tomorrow. He’d be so mad he missed it he wouldn’t speak to me for days. As I made my way home, I thought Jem and I would get grown but there wasn’t much else left for us to learn, except possibly algebra. I ran up the steps and into the house. Aunt Alexandra had gone to bed, and Atticus’s room was dark. I would see if Jem might be reviving. Atticus was in Jem’s room, sitting by his bed. He was reading a book. “Is Jem awake yet?” “Sleeping peacefully. He won’t be awake until morning.” “Oh. Are you sittin‘ up with him?” “Just for an hour or so. Go to bed, Scout. You’ve had a long day.” “Well, I think I’ll stay with you for a while.” “Suit yourself,” said Atticus. It must have been after midnight, and I was puzzled by his amiable acquiescence. He was shrewder than I, however: the moment I sat down I began to feel sleepy. “Whatcha readin‘?” I asked. Atticus turned the book over. “Something of Jem’s. Called The Gray Ghost.” I was suddenly awake. “Why’d you get that one?” “Honey, I don’t know. Just picked it up. One of the few things I haven’t read,” he said pointedly. “Read it out loud, please, Atticus. It’s real scary.” “No,” he said. “You’ve had enough scaring for a',\n",
       "    'retrieval_score': 0.6259769201278687,\n",
       "    '_idx': 1661,\n",
       "    'ce_score': -7.074382781982422},\n",
       "   {'chunk_id': '31_13',\n",
       "    'chapter': 31,\n",
       "    'text': 'left of the brown door was a long shuttered window. I walked to it, stood in front of it, and turned around. In daylight, I thought, you could see to the postoffice corner. Daylight… in my mind, the night faded. It was daytime and the neighborhood was busy. Miss Stephanie Crawford crossed the street to tell the latest to Miss Rachel. Miss Maudie bent over her azaleas. It was summertime, and two children scampered down the sidewalk toward a man approaching in the distance. The man waved, and the children raced each other to him. It was still summertime, and the children came closer. A boy trudged down the sidewalk dragging a fishingpole behind him. A man stood waiting with his hands on his hips. Summertime, and his children played in the front yard with their friend, enacting a strange little drama of their own invention. It was fall, and his children fought on the sidewalk in front of Mrs. Dubose’s. The boy helped his sister to her feet, and they made their way home. Fall, and his children trotted to and fro around the corner, the day’s woes and triumphs on their faces. They stopped at an oak tree, delighted, puzzled, apprehensive. Winter, and his children shivered at the front gate, silhouetted against a blazing house. Winter, and a man walked into the street, dropped his glasses, and shot a dog. Summer, and he watched his children’s heart break. Autumn again, and Boo’s children needed him. Atticus was right. One time he said you never really know a man until you stand in his shoes and walk around in them. Just standing on the Radley porch was enough. The street lights were fuzzy from the fine rain that was falling. As I made my way home, I felt very old, but when I looked at the tip of my nose I could see fine misty beads, but looking cross-eyed made me dizzy so I quit. As I made my way home, I thought what a thing to tell Jem tomorrow. He’d be so mad he missed it he wouldn’t speak to me for days. As I made my way home, I thought Jem and I would get grown but there wasn’t much else left for us to learn, except possibly algebra. I ran',\n",
       "    'retrieval_score': 0.6570014953613281,\n",
       "    '_idx': 1658,\n",
       "    'ce_score': -7.598440647125244}]},\n",
       " {'chapter': 11,\n",
       "  'chapter_score': -7.064541816711426,\n",
       "  'chunks': [{'chunk_id': '11_45',\n",
       "    'chapter': 11,\n",
       "    'text': 'door and unlatched the screen door. “Is that you, Jem Finch?” she said. “You got your sister with you. I don’t know—” “Let ‘em both in, Jessie,” said Mrs. Dubose. Jessie admitted us and went off to the kitchen. An oppressive odor met us when we crossed the threshold, an odor I had met many times in rain-rotted gray houses where there are coal-oil lamps, water dippers, and unbleached domestic sheets. It always made me afraid, expectant, watchful. In the corner of the room was a brass bed, and in the bed was Mrs. Dubose. I wondered if Jem’s activities had put her there, and for a moment I felt sorry for her. She was lying under a pile of quilts and looked almost friendly. There was a marble-topped washstand by her bed; on it were a glass with a teaspoon in it, a red ear syringe, a box of absorbent cotton, and a steel alarm clock standing on three tiny legs. “So you brought that dirty little sister of yours, did you?” was her greeting. Jem said quietly, “My sister ain’t dirty and I ain’t scared of you,” although I noticed his knees shaking. I was expecting a tirade, but all she said was, “You may commence reading, Jeremy.” Jem sat down in a cane-bottom chair and opened Ivanhoe. I pulled up another one and sat beside him. “Come closer,” said Mrs. Dubose. “Come to the side of the bed.” We moved our chairs forward. This was the nearest I had ever been to her, and the thing I wanted most to do was move my chair back again. She was horrible. Her face was the color of a dirty pillowcase, and the corners of her mouth glistened with wet, which inched like a glacier down the deep grooves enclosing her chin. Old-age liver spots dotted her cheeks, and her pale eyes had black pinpoint pupils. Her hands were knobby, and the cuticles were grown up over her fingernails. Her bottom plate was not in, and her upper lip protruded; from time to time she would draw her nether lip to her upper plate and carry her chin with it. This made the wet move faster. I didn’t look any more than I had to. Jem reopened Ivanhoe and began reading. I tried',\n",
       "    'retrieval_score': 0.6153006553649902,\n",
       "    '_idx': 623,\n",
       "    'ce_score': -7.064541816711426}]},\n",
       " {'chapter': 13,\n",
       "  'chapter_score': -6.661649227142334,\n",
       "  'chunks': [{'chunk_id': '13_28',\n",
       "    'chapter': 13,\n",
       "    'text': 'was ignored during the War Between the States, Reconstruction rule and economic ruin forced the town to grow. It grew inward. New people so rarely settled there, the same families married the same families until the members of the community looked faintly alike. Occasionally someone would return from Montgomery or Mobile with an outsider, but the result caused only a ripple in the quiet stream of family resemblance. Things were more or less the same during my early years. There was indeed a caste system in Maycomb, but to my mind it worked this way: the older citizens, the present generation of people who had lived side by side for years and years, were utterly predictable to one another: they took for granted attitudes, character shadings, even gestures, as having been repeated in each generation and refined by time. Thus the dicta No Crawford Minds His Own Business, Every Third Merriweather Is Morbid, The Truth Is Not in the Delafields, All the Bufords Walk Like That, were simply guides to daily living: never take a check from a Delafield without a discreet call to the bank; Miss Maudie Atkinson’s shoulder stoops because she was a Buford; if Mrs. Grace Merriweather sips gin out of Lydia E. Pinkham bottles it’s nothing unusual—her mother did the same. Aunt Alexandra fitted into the world of Maycomb like a hand into a glove, but never into the world of Jem and me. I so often wondered how she could be Atticus’s and Uncle Jack’s sister that I revived half-remembered tales of changelings and mandrake roots that Jem had spun long ago. These were abstract speculations for the first month of her stay, as she had little to say to Jem or me, and we saw her only at mealtimes and at night before we went to bed. It was summer and we were outdoors. Of course some afternoons when I would run inside for a drink of water, I would find the livingroom overrun with Maycomb ladies, sipping, whispering, fanning, and I would be called: “Jean Louise, come speak to these ladies.” When I appeared in the doorway, Aunty would look as if she regretted her request; I was usually mud-splashed or covered with sand. “Speak to your Cousin Lily,” she said one afternoon, when she had trapped',\n",
       "    'retrieval_score': 0.621414303779602,\n",
       "    '_idx': 759,\n",
       "    'ce_score': -6.661649227142334},\n",
       "   {'chunk_id': '13_30',\n",
       "    'chapter': 13,\n",
       "    'text': 'took for granted attitudes, character shadings, even gestures, as having been repeated in each generation and refined by time. Thus the dicta No Crawford Minds His Own Business, Every Third Merriweather Is Morbid, The Truth Is Not in the Delafields, All the Bufords Walk Like That, were simply guides to daily living: never take a check from a Delafield without a discreet call to the bank; Miss Maudie Atkinson’s shoulder stoops because she was a Buford; if Mrs. Grace Merriweather sips gin out of Lydia E. Pinkham bottles it’s nothing unusual—her mother did the same. Aunt Alexandra fitted into the world of Maycomb like a hand into a glove, but never into the world of Jem and me. I so often wondered how she could be Atticus’s and Uncle Jack’s sister that I revived half-remembered tales of changelings and mandrake roots that Jem had spun long ago. These were abstract speculations for the first month of her stay, as she had little to say to Jem or me, and we saw her only at mealtimes and at night before we went to bed. It was summer and we were outdoors. Of course some afternoons when I would run inside for a drink of water, I would find the livingroom overrun with Maycomb ladies, sipping, whispering, fanning, and I would be called: “Jean Louise, come speak to these ladies.” When I appeared in the doorway, Aunty would look as if she regretted her request; I was usually mud-splashed or covered with sand. “Speak to your Cousin Lily,” she said one afternoon, when she had trapped me in the hall. “Who?” I said. “Your Cousin Lily Brooke,” said Aunt Alexandra. “She our cousin? I didn’t know that.” Aunt Alexandra managed to smile in a way that conveyed a gentle apology to Cousin Lily and firm disapproval to me. When Cousin Lily Brooke left I knew I was in for it. It was a sad thing that my father had neglected to tell me about the Finch Family, or to install any pride into his children. She summoned Jem, who sat warily on the sofa beside me. She left the room and returned with a purple-covered book on which Meditations of Joshua S. St. Clair was stamped in gold. “Your cousin wrote this,” said Aunt Alexandra. “He',\n",
       "    'retrieval_score': 0.6379005312919617,\n",
       "    '_idx': 761,\n",
       "    'ce_score': -6.935925483703613},\n",
       "   {'chunk_id': '13_1',\n",
       "    'chapter': 13,\n",
       "    'text': '“Put my bag in the front bedroom, Calpurnia,” was the first thing Aunt Alexandra said. “Jean Louise, stop scratching your head,” was the second thing she said. Calpurnia picked up Aunty’s heavy suitcase and opened the door. “I’ll take it,” said Jem, and took it. I heard the suitcase hit the bedroom floor with a thump. The sound had a dull permanence about it. “Have you come for a visit, Aunty?” I asked. Aunt Alexandra’s visits from the Landing were rare, and she traveled in state. She owned a bright green square Buick and a black chauffeur, both kept in an unhealthy state of tidiness, but today they were nowhere to be seen. “Didn’t your father tell you?” she asked. Jem and I shook our heads. “Probably he forgot. He’s not in yet, is he?” “Nome, he doesn’t usually get back till late afternoon,” said Jem. “Well, your father and I decided it was time I came to stay with you for a while.” “For a while” in Maycomb meant anything from three days to thirty years. Jem and I exchanged glances. “Jem’s growing up now and you are too,” she said to me. “We decided that it would be best for you to have some feminine influence. It won’t be many years, Jean Louise, before you become interested in clothes and boys—” I could have made several answers to this: Cal’s a girl, it would be many years before I would be interested in boys, I would never be interested in clothes… but I kept quiet. “What about Uncle Jimmy?” asked Jem. “Is he comin‘, too?” “Oh no, he’s staying at the Landing. He’ll keep the place going.” The moment I said, “Won’t you miss him?” I realized that this was not a tactful question. Uncle Jimmy present or Uncle Jimmy absent made not much difference, he never said anything. Aunt Alexandra ignored my question. I could think of nothing else to say to her. In fact I could never think of anything to say to her, and I sat thinking of past painful conversations between us: How are you, Jean Louise? Fine, thank you ma’am, how are you? Very well, thank you, what have you been doing with yourself? Nothin‘. Don’t you do anything? Nome. Certainly you have friends? Yessum. Well what',\n",
       "    'retrieval_score': 0.6158765554428101,\n",
       "    '_idx': 732,\n",
       "    'ce_score': -7.589210510253906}]},\n",
       " {'chapter': 1,\n",
       "  'chapter_score': -5.957978248596191,\n",
       "  'chunks': [{'chunk_id': '1_16',\n",
       "    'chapter': 1,\n",
       "    'text': 'the streets turned to red slop; grass grew on the sidewalks, the courthouse sagged in the square. Somehow, it was hotter then: a black dog suffered on a summer’s day; bony mules hitched to Hoover carts flicked flies in the sweltering shade of the live oaks on the square. Men’s stiff collars wilted by nine in the morning. Ladies bathed before noon, after their three-o’clock naps, and by nightfall were like soft teacakes with frostings of sweat and sweet talcum. People moved slowly then. They ambled across the square, shuffled in and out of the stores around it, took their time about everything. A day was twenty-four hours long but seemed longer. There was no hurry, for there was nowhere to go, nothing to buy and no money to buy it with, nothing to see outside the boundaries of Maycomb County. But it was a time of vague optimism for some of the people: Maycomb County had recently been told that it had nothing to fear but fear itself. We lived on the main residential street in town— Atticus, Jem and I, plus Calpurnia our cook. Jem and I found our father satisfactory: he played with us, read to us, and treated us with courteous detachment. Calpurnia was something else again. She was all angles and bones; she was nearsighted; she squinted; her hand was wide as a bed slat and twice as hard. She was always ordering me out of the kitchen, asking me why I couldn’t behave as well as Jem when she knew he was older, and calling me home when I wasn’t ready to come. Our battles were epic and one-sided. Calpurnia always won, mainly because Atticus always took her side. She had been with us ever since Jem was born, and I had felt her tyrannical presence as long as I could remember. Our mother died when I was two, so I never felt her absence. She was a Graham from Montgomery; Atticus met her when he was first elected to the state legislature. He was middle-aged then, she was fifteen years his junior. Jem was the product of their first year of marriage; four years later I was born, and two years later our mother died from a sudden heart attack. They said it ran in her family.',\n",
       "    'retrieval_score': 0.6517050862312317,\n",
       "    '_idx': 15,\n",
       "    'ce_score': -5.957978248596191},\n",
       "   {'chunk_id': '1_14',\n",
       "    'chapter': 1,\n",
       "    'text': 'During his first five years in Maycomb, Atticus practiced economy more than anything; for several years thereafter he invested his earnings in his brother’s education. John Hale Finch was ten years younger than my father, and chose to study medicine at a time when cotton was not worth growing; but after getting Uncle Jack started, Atticus derived a reasonable income from the law. He liked Maycomb, he was Maycomb County born and bred; he knew his people, they knew him, and because of Simon Finch’s industry, Atticus was related by blood or marriage to nearly every family in the town. Maycomb was an old town, but it was a tired old town when I first knew it. In rainy weather the streets turned to red slop; grass grew on the sidewalks, the courthouse sagged in the square. Somehow, it was hotter then: a black dog suffered on a summer’s day; bony mules hitched to Hoover carts flicked flies in the sweltering shade of the live oaks on the square. Men’s stiff collars wilted by nine in the morning. Ladies bathed before noon, after their three-o’clock naps, and by nightfall were like soft teacakes with frostings of sweat and sweet talcum. People moved slowly then. They ambled across the square, shuffled in and out of the stores around it, took their time about everything. A day was twenty-four hours long but seemed longer. There was no hurry, for there was nowhere to go, nothing to buy and no money to buy it with, nothing to see outside the boundaries of Maycomb County. But it was a time of vague optimism for some of the people: Maycomb County had recently been told that it had nothing to fear but fear itself. We lived on the main residential street in town— Atticus, Jem and I, plus Calpurnia our cook. Jem and I found our father satisfactory: he played with us, read to us, and treated us with courteous detachment. Calpurnia was something else again. She was all angles and bones; she was nearsighted; she squinted; her hand was wide as a bed slat and twice as hard. She was always ordering me out of the kitchen, asking me why I couldn’t behave as well as Jem when she knew he was older, and calling me home when',\n",
       "    'retrieval_score': 0.6898905038833618,\n",
       "    '_idx': 13,\n",
       "    'ce_score': -7.576005935668945}]}]"
      ]
     },
     "execution_count": 17,
     "metadata": {},
     "output_type": "execute_result"
    }
   ],
   "source": [
    "Rerank_results"
   ]
  },
  {
   "cell_type": "markdown",
   "id": "fa864d3d",
   "metadata": {},
   "source": [
    "Evaluation"
   ]
  },
  {
   "cell_type": "code",
   "execution_count": 18,
   "id": "9c279c6a",
   "metadata": {},
   "outputs": [],
   "source": [
    "#precision@k\n",
    "def precision_at_k(results, k):\n",
    "    \"\"\"Calculates precision at k for the given results.\"\"\"\n",
    "    if not results or k <= 0:\n",
    "        return 0.0\n",
    "    \n",
    "    relevant_count = sum(1 for res in results[:k] if res['retrieval_score'] > 0.5)  # Assuming a threshold for relevance\n",
    "    return relevant_count / k"
   ]
  },
  {
   "cell_type": "code",
   "execution_count": 24,
   "id": "d87aa43d",
   "metadata": {},
   "outputs": [
    {
     "name": "stdout",
     "output_type": "stream",
     "text": [
      "Precision at k=10: 1.00\n"
     ]
    }
   ],
   "source": [
    "# Flatten the chunks from the grouped results\n",
    "def precision_at_k_no_rerank(results, k):\n",
    "\t\"\"\"Calculates precision at k for the given results (no rerank).\"\"\"\n",
    "\tif not results or k <= 0:\n",
    "\t\treturn 0.0\n",
    "\trelevant_count = sum(1 for res in results[:k] if res['score'] > 0.5)  # Use 'score' key\n",
    "\treturn relevant_count / k\n",
    "\n",
    "pk_no_rerank = precision_at_k_no_rerank(top_results, k=10)\n",
    "print(f\"Precision at k=10: {pk_no_rerank:.2f}\")"
   ]
  },
  {
   "cell_type": "code",
   "execution_count": 27,
   "id": "70c5464c",
   "metadata": {},
   "outputs": [
    {
     "name": "stdout",
     "output_type": "stream",
     "text": [
      "Recall at k=10: 1.00\n"
     ]
    }
   ],
   "source": [
    "#recall@k\n",
    "def recall_at_k_no_rerank(results, k):\n",
    "    \"\"\"Calculates recall at k for the given results.\"\"\"\n",
    "    if not results or k <= 0:\n",
    "        return 0.0\n",
    "    \n",
    "    relevant_count = sum(1 for res in results[:k] if res['score'] > 0.5)  # Assuming a threshold for relevance\n",
    "    total_relevant = sum(1 for res in results if res['score'] > 0.5)\n",
    "    \n",
    "    return relevant_count / total_relevant if total_relevant > 0 else 0.0\n",
    "\n",
    "recall_no_rerank = recall_at_k_no_rerank(top_results, k=10)\n",
    "print(f\"Recall at k=10: {recall_no_rerank:.2f}\")"
   ]
  },
  {
   "cell_type": "code",
   "execution_count": null,
   "id": "7638b7c1",
   "metadata": {},
   "outputs": [
    {
     "data": {
      "text/plain": [
       "1.0"
      ]
     },
     "execution_count": 35,
     "metadata": {},
     "output_type": "execute_result"
    }
   ],
   "source": []
  }
 ],
 "metadata": {
  "kernelspec": {
   "display_name": "Python 3",
   "language": "python",
   "name": "python3"
  },
  "language_info": {
   "codemirror_mode": {
    "name": "ipython",
    "version": 3
   },
   "file_extension": ".py",
   "mimetype": "text/x-python",
   "name": "python",
   "nbconvert_exporter": "python",
   "pygments_lexer": "ipython3",
   "version": "3.11.9"
  }
 },
 "nbformat": 4,
 "nbformat_minor": 5
}
