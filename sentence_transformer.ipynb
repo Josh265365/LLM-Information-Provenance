{
 "cells": [
  {
   "cell_type": "code",
   "execution_count": 1,
   "id": "27484bd8",
   "metadata": {},
   "outputs": [],
   "source": [
    "import re\n",
    "\n",
    "# Load the book's text\n",
    "with open('data/TKMBFullBook.txt', 'r', encoding='utf-8') as f:\n",
    "    text = f.read()"
   ]
  },
  {
   "cell_type": "code",
   "execution_count": 7,
   "id": "04a91fe0",
   "metadata": {},
   "outputs": [],
   "source": [
    "chapters = re.split(r'Chapter \\d+', text)\n",
    "if chapters[0].strip() == \"\":\n",
    "    chapters.pop(0) # Remove the empty string before the first chapter"
   ]
  },
  {
   "cell_type": "code",
   "execution_count": null,
   "id": "bf8c6071",
   "metadata": {},
   "outputs": [
    {
     "name": "stdout",
     "output_type": "stream",
     "text": [
      "Total chunks created: 856530\n",
      "Example chunk: {'chapter': 1, 'chunk_id': '1_1', 'text': '  \\n C h a p t e r   1 \\n   W h e n   h e   w a s   n e a r l y   t h i r t e e n ,   m y   b r o t h e r   J e m   g o t   h i s   a r m   b a d l y   b r o k e'}\n"
     ]
    }
   ],
   "source": [
    "WINDOW = 80 # Number of words in each chunk\n",
    "STRIDE = 20 # Number of words to shift for the next chunk\n",
    "\n",
    "def chapter_to_chunks(chapter_text):\n",
    "    # Simple word splitting (preserving original text for transformer tokenizer)\n",
    "    words = chapter_text.split()\n",
    "    chunks = []\n",
    "    \n",
    "    for start in range(0, len(words), STRIDE):\n",
    "        end = start + WINDOW\n",
    "        if end > len(words):\n",
    "            # For the last chunk, take all remaining words\n",
    "            chunk_words = words[start:]\n",
    "        else:\n",
    "            chunk_words = words[start:end]\n",
    "        \n",
    "        # Join the words back into text with single spaces\n",
    "        chunk_text = \" \".join(chunk_words)\n",
    "        chunks.append(chunk_text)\n",
    "    \n",
    "    return chunks\n",
    "\n",
    "all_chunks = []\n",
    "for chap_num, chap_text in enumerate(chapters, start=1):\n",
    "    for i, chunk in enumerate(chapter_to_chunks(chap_text), start=1):\n",
    "        all_chunks.append({\n",
    "            \"chapter\": chap_num,\n",
    "            \"chunk_id\": f\"{chap_num}_{i}\",\n",
    "            \"text\": chunk\n",
    "        })\n",
    "        \n",
    "print(f\"Total chunks created: {len(all_chunks)}\")\n",
    "print(f\"Example chunk: {all_chunks[0]}\")"
   ]
  }
 ],
 "metadata": {
  "kernelspec": {
   "display_name": "Python 3",
   "language": "python",
   "name": "python3"
  },
  "language_info": {
   "codemirror_mode": {
    "name": "ipython",
    "version": 3
   },
   "file_extension": ".py",
   "mimetype": "text/x-python",
   "name": "python",
   "nbconvert_exporter": "python",
   "pygments_lexer": "ipython3",
   "version": "3.11.9"
  }
 },
 "nbformat": 4,
 "nbformat_minor": 5
}
