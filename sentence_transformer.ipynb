{
 "cells": [
  {
   "cell_type": "code",
   "execution_count": 32,
   "id": "27484bd8",
   "metadata": {},
   "outputs": [],
   "source": [
    "import re\n",
    "\n",
    "# Load the book's text\n",
    "with open('data/TKMBFullBook.txt', 'r', encoding='utf-8') as f:\n",
    "    text = f.read()"
   ]
  },
  {
   "cell_type": "code",
   "execution_count": 33,
   "id": "04a91fe0",
   "metadata": {},
   "outputs": [],
   "source": [
    "chapters = re.split(r'Chapter \\d+', text)\n",
    "if chapters[0].strip() == \"\":\n",
    "    chapters.pop(0) # Remove the empty string before the first chapter"
   ]
  },
  {
   "cell_type": "code",
   "execution_count": 44,
   "id": "64a1de7f",
   "metadata": {},
   "outputs": [
    {
     "name": "stdout",
     "output_type": "stream",
     "text": [
      "Total chunks created: 1673\n",
      "Example chunk: {'chapter': 1, 'chunk_id': '1_51', 'text': 'the Radleys: when Jem would question him Atticus’s only answer was for him to mind his own business and let the Radleys mind theirs, they had a right to; but when it happened Jem said Atticus shook his head and said, “Mm, mm, mm.” So Jem received most of his information from Miss Stephanie Crawford, a neighborhood scold, who said she knew the whole thing. According to Miss Stephanie, Boo was sitting in the livingroom cutting some items from The Maycomb Tribune to paste in his scrapbook. His father entered the room. As Mr. Radley passed by, Boo drove the scissors into his parent’s leg, pulled them out, wiped them on his pants, and resumed his activities. Mrs. Radley ran screaming into the street that Arthur was killing them all, but when the sheriff arrived he found Boo still sitting in the livingroom, cutting up the Tribune. He was thirty-three years old then. Miss Stephanie said old Mr. Radley said no Radley was going to any asylum, when it was suggested that a season in Tuscaloosa might be helpful to Boo. Boo wasn’t crazy, he was high-strung at times. It was all right to shut him up, Mr. Radley conceded, but insisted that Boo not be charged with anything: he was not a criminal. The sheriff hadn’t the heart to put him in jail alongside Negroes, so Boo was locked in the courthouse basement. Boo’s transition from the basement to back home was nebulous in Jem’s memory. Miss Stephanie Crawford said some of the town council'}\n"
     ]
    }
   ],
   "source": [
    "WINDOW = 256 # Number of words in each chunk # 200\n",
    "STRIDE = 60 # Number of words to shift for the next chunk # 40\n",
    "\n",
    "def chapter_to_chunks(chapter_text):\n",
    "    # Simple word splitting (preserving original text for transformer tokenizer)\n",
    "    words = chapter_text.split()\n",
    "    chunks = []\n",
    "    \n",
    "    for start in range(0, len(words), STRIDE):\n",
    "        end = start + WINDOW\n",
    "        if end > len(words):\n",
    "            # For the last chunk, take all remaining words\n",
    "            chunk_words = words[start:]\n",
    "        else:\n",
    "            chunk_words = words[start:end]\n",
    "        \n",
    "        # Join the words back into text with single spaces\n",
    "        chunk_text = \" \".join(chunk_words)\n",
    "        chunks.append(chunk_text)\n",
    "    \n",
    "    return chunks\n",
    "\n",
    "all_chunks = []\n",
    "for chap_num, chap_text in enumerate(chapters, start=1):\n",
    "    for i, chunk in enumerate(chapter_to_chunks(chap_text), start=1):\n",
    "        all_chunks.append({\n",
    "            \"chapter\": chap_num,\n",
    "            \"chunk_id\": f\"{chap_num}_{i}\",\n",
    "            \"text\": chunk\n",
    "        })\n",
    "        \n",
    "print(f\"Total chunks created: {len(all_chunks)}\")\n",
    "print(f\"Example chunk: {all_chunks[50]}\")"
   ]
  },
  {
   "cell_type": "code",
   "execution_count": 22,
   "id": "2b918414",
   "metadata": {},
   "outputs": [
    {
     "name": "stderr",
     "output_type": "stream",
     "text": [
      "W0804 23:49:31.795000 56288 torch\\distributed\\elastic\\multiprocessing\\redirects.py:29] NOTE: Redirects are currently not supported in Windows or MacOs.\n"
     ]
    }
   ],
   "source": [
    "from sentence_transformers import SentenceTransformer\n",
    "model = SentenceTransformer('all-MiniLM-L6-v2')"
   ]
  },
  {
   "cell_type": "code",
   "execution_count": 45,
   "id": "fe506b6d",
   "metadata": {},
   "outputs": [
    {
     "data": {
      "application/vnd.jupyter.widget-view+json": {
       "model_id": "1d5f63778d9c4323ba65fb473ccfec71",
       "version_major": 2,
       "version_minor": 0
      },
      "text/plain": [
       "Batches:   0%|          | 0/53 [00:00<?, ?it/s]"
      ]
     },
     "metadata": {},
     "output_type": "display_data"
    }
   ],
   "source": [
    "texts = [chunk['text'] for chunk in all_chunks]\n",
    "embeddings = model.encode(texts, convert_to_tensor=False, show_progress_bar=True, batch_size=32)"
   ]
  },
  {
   "cell_type": "code",
   "execution_count": 46,
   "id": "6d21f99e",
   "metadata": {},
   "outputs": [
    {
     "data": {
      "text/plain": [
       "array([ 1.29837347e-02,  2.70487983e-02,  1.01330662e-02, -2.32675783e-02,\n",
       "       -2.85031646e-02, -1.84757262e-03,  3.32422159e-03, -6.01326972e-02,\n",
       "       -7.65829757e-02,  8.46346691e-02, -3.42197642e-02,  6.32861350e-03,\n",
       "        1.23412125e-02, -3.87306400e-02, -5.35401441e-02,  2.31998065e-03,\n",
       "       -2.53848527e-02, -3.59485149e-02, -6.17510676e-02,  6.63554892e-02,\n",
       "       -2.08959579e-02,  5.19076809e-02,  1.17372595e-01,  4.66499142e-02,\n",
       "       -5.53927906e-02,  2.19413899e-02,  2.28139944e-02,  3.22447009e-02,\n",
       "       -2.49795243e-02, -8.12080055e-02, -2.15766812e-03, -3.51343192e-02,\n",
       "       -1.66762020e-05, -3.63159776e-02, -6.79372251e-02,  5.38275484e-03,\n",
       "        9.28241611e-02,  2.17067283e-02,  2.98103094e-02, -8.76560062e-02,\n",
       "        3.24136429e-02,  5.97578194e-03,  2.91927345e-03,  6.26275782e-03,\n",
       "       -9.53449085e-02,  3.64794512e-03,  2.27572955e-02,  1.36787798e-02,\n",
       "        3.97166088e-02, -1.55850304e-02,  2.19276790e-02,  4.73944694e-02,\n",
       "        2.57588085e-02, -8.56208578e-02, -3.17071714e-02,  8.16842690e-02,\n",
       "       -1.61501509e-03, -5.24119996e-02, -6.41333386e-02,  2.23967135e-02,\n",
       "       -8.39729309e-02,  1.36465847e-03, -5.46623245e-02,  4.21384051e-02,\n",
       "       -2.09244918e-02, -5.91895171e-02,  9.93145979e-04, -5.80786169e-02,\n",
       "        6.67858198e-02,  2.96159480e-02,  7.54665770e-03, -5.71842976e-02,\n",
       "        5.14608547e-02, -2.96847131e-02, -2.12358329e-02,  3.39022465e-02,\n",
       "        6.37843385e-02,  4.98858914e-02,  5.68903014e-02, -7.21241385e-02,\n",
       "       -4.71120775e-02, -1.98948514e-02,  6.95279688e-02,  2.46829782e-02,\n",
       "       -4.29538935e-02, -5.97357824e-02,  9.89512820e-03, -1.36970412e-02,\n",
       "       -2.50607673e-02,  4.07723524e-03,  8.62531550e-03, -7.16442913e-02,\n",
       "       -2.13076011e-03,  2.57942099e-02,  1.31227046e-01,  2.11809371e-02,\n",
       "       -9.20129716e-02,  4.55082133e-02, -7.18251020e-02,  4.74080397e-03,\n",
       "       -2.63554938e-02,  1.63239799e-02, -1.17615825e-02,  3.22039425e-02,\n",
       "        2.87015047e-02, -7.39223659e-02, -2.99512856e-02, -2.86060162e-02,\n",
       "       -7.94048514e-03, -2.95137390e-02,  4.68087457e-02, -3.31767388e-02,\n",
       "        2.54727956e-02,  7.42228404e-02, -5.00092516e-03, -2.43045557e-02,\n",
       "       -1.91191826e-02, -7.13738278e-02, -1.27206203e-02,  4.24137674e-02,\n",
       "        5.27574755e-02,  9.98261422e-02, -1.07361868e-01,  3.16884369e-02,\n",
       "        2.10223682e-02,  5.31168170e-02, -1.59903150e-02,  4.28564339e-33,\n",
       "        1.41908433e-02, -8.54414189e-04,  6.19686441e-03,  5.57052344e-03,\n",
       "        4.04724069e-02,  2.36113295e-02, -7.83081353e-02, -5.25070960e-03,\n",
       "        6.22573309e-02, -4.24625396e-05,  5.29797934e-02, -3.40474360e-02,\n",
       "       -1.85583383e-02, -1.02208346e-01,  2.82363258e-02,  4.80025858e-02,\n",
       "       -6.00536726e-02, -3.01129501e-02, -5.25090052e-03, -1.10973641e-01,\n",
       "       -6.88154548e-02,  2.85720620e-02, -2.02840958e-02, -5.26141077e-02,\n",
       "       -2.59001553e-02,  3.83404754e-02, -6.94326404e-03,  1.44728674e-02,\n",
       "       -6.08014278e-02,  4.79579158e-02,  3.53107750e-02, -2.34116782e-02,\n",
       "       -3.31578287e-03, -8.36142898e-03, -4.69858805e-03, -2.28690505e-02,\n",
       "        2.80582141e-02, -9.69282240e-02,  2.52903551e-02,  5.92204928e-02,\n",
       "       -4.98028025e-02, -1.12631880e-02,  1.39209321e-02,  1.97556503e-02,\n",
       "       -2.20764633e-02, -8.23248103e-02,  9.52726230e-03, -7.70674739e-03,\n",
       "       -3.82031873e-02,  4.73852307e-02,  1.28154606e-01, -3.61242332e-02,\n",
       "        1.07181571e-01, -1.44410834e-01,  1.11557655e-02,  2.01653726e-02,\n",
       "       -2.26504635e-02,  3.62400971e-02,  2.00700536e-02,  2.71090660e-02,\n",
       "        4.56414223e-02, -8.91092350e-04,  3.75781283e-02, -1.87057257e-02,\n",
       "       -1.26532027e-02, -3.19287814e-02,  2.99013909e-02, -1.95200350e-02,\n",
       "       -1.39511228e-01, -4.32039611e-02, -3.05468198e-02,  2.91737579e-02,\n",
       "        1.08743729e-02, -8.97461176e-02, -7.04168305e-02,  6.35901466e-02,\n",
       "        6.62049651e-02,  4.23818640e-02,  5.39802480e-03, -9.38022882e-02,\n",
       "        1.23593519e-02,  2.91287918e-02, -4.62191701e-02,  1.92943327e-02,\n",
       "       -3.23925018e-02, -1.09092817e-01,  4.26847450e-02, -3.16778198e-02,\n",
       "        2.49423292e-02, -1.19288564e-02,  1.00033088e-02,  3.97007503e-02,\n",
       "       -1.90787017e-02, -5.71180545e-02, -4.02267091e-02, -5.54892476e-33,\n",
       "       -4.48298678e-02, -3.22673284e-03,  2.78370865e-02,  4.64718975e-03,\n",
       "       -3.81237641e-02, -4.65256684e-02,  1.94114614e-02, -4.04902324e-02,\n",
       "        8.30384716e-02, -3.46660353e-02, -1.03675447e-01,  5.96617758e-02,\n",
       "        8.20542723e-02, -2.19907407e-02, -2.85657141e-02, -2.37616971e-02,\n",
       "        3.64070311e-02,  2.37481091e-02,  3.13310735e-02, -4.70805131e-02,\n",
       "        4.94863689e-02,  6.19057752e-02, -5.13639301e-02, -7.09884465e-02,\n",
       "        4.02562730e-02, -3.50209661e-02,  5.09510413e-02, -2.76688989e-02,\n",
       "       -5.36463372e-02, -8.11778754e-03,  7.13958666e-02, -6.57088310e-03,\n",
       "        6.14014044e-02, -8.48129317e-02, -6.38377527e-03, -1.03088990e-02,\n",
       "        1.15601860e-01,  4.74280976e-02,  5.24395006e-03, -7.21147731e-02,\n",
       "        3.59164085e-03, -2.82777920e-02,  5.34251593e-02, -3.10664475e-02,\n",
       "        3.38595137e-02,  6.64550252e-03,  4.38292651e-03,  2.32990831e-02,\n",
       "       -7.51096383e-02,  6.94789365e-02, -6.94163293e-02,  4.18373123e-02,\n",
       "        6.82149455e-02,  3.82947810e-02, -1.96750499e-02, -3.72794010e-02,\n",
       "       -2.64171083e-02, -5.48513047e-02,  5.39788930e-03, -3.05543412e-02,\n",
       "       -8.63674209e-02,  1.30403535e-02, -4.92628701e-02,  6.91105891e-03,\n",
       "        6.80836290e-02,  4.62714657e-02, -1.46120116e-01, -2.76094154e-02,\n",
       "       -5.55027537e-02, -3.59602342e-03, -3.34510840e-02, -8.50561485e-02,\n",
       "       -4.61066663e-02,  1.06519470e-02,  1.02936797e-01,  1.76429585e-01,\n",
       "       -2.54691881e-03, -5.25441617e-02, -1.00031443e-01,  3.87778394e-02,\n",
       "       -1.52521329e-02, -3.30669321e-02, -3.68749164e-02,  5.86557388e-03,\n",
       "        1.06408205e-02,  9.45186801e-03,  4.25456651e-02,  2.88814772e-02,\n",
       "       -8.34395923e-03, -4.49405201e-02,  2.04473697e-02, -5.01803979e-02,\n",
       "        1.35411164e-02,  1.94812135e-03,  1.57640539e-02, -5.92883467e-08,\n",
       "       -1.75388567e-02,  8.78555626e-02,  9.97036882e-03,  8.36972073e-02,\n",
       "        1.11275807e-01,  6.30151331e-02,  3.82597335e-02,  5.47963716e-02,\n",
       "        2.70721801e-02,  1.13025695e-01, -8.92259777e-02,  3.77710201e-02,\n",
       "        1.00308441e-01, -2.35201716e-02,  6.08352832e-02,  3.02834455e-02,\n",
       "       -5.25450781e-02, -1.23114280e-01, -5.94620742e-02,  6.07001223e-02,\n",
       "        2.16005300e-03,  2.98556667e-02,  2.56963093e-02, -1.42662684e-02,\n",
       "        7.64707383e-03, -1.11608505e-02,  8.84278677e-03, -5.03974482e-02,\n",
       "       -1.06605299e-01,  5.38169853e-02,  5.69784530e-02,  5.49625419e-02,\n",
       "       -1.86908245e-02,  8.73364415e-03, -1.10576227e-01, -9.32855159e-02,\n",
       "        7.24106953e-02,  9.14927945e-02,  3.78964059e-02, -3.41445877e-04,\n",
       "       -3.90954390e-02, -4.60285228e-03,  9.25150439e-02,  6.00655051e-03,\n",
       "        3.39945965e-02,  4.92824838e-02,  9.55586694e-03,  9.02019665e-02,\n",
       "        3.26585472e-02, -1.70255471e-02, -2.68548261e-03,  3.92574146e-02,\n",
       "        6.54003024e-02,  6.20723031e-02,  6.81735724e-02, -4.91833165e-02,\n",
       "        2.46647093e-02, -2.62988731e-03,  1.57803316e-02,  1.22688096e-02,\n",
       "        8.55726376e-02,  5.85453361e-02, -2.81790439e-02,  6.06152276e-03],\n",
       "      dtype=float32)"
      ]
     },
     "execution_count": 46,
     "metadata": {},
     "output_type": "execute_result"
    }
   ],
   "source": [
    "embeddings[1]  # Example to show the embedding of the second chunk"
   ]
  },
  {
   "cell_type": "code",
   "execution_count": 47,
   "id": "f99970ac",
   "metadata": {},
   "outputs": [
    {
     "data": {
      "text/plain": [
       "(1673, 384)"
      ]
     },
     "execution_count": 47,
     "metadata": {},
     "output_type": "execute_result"
    }
   ],
   "source": [
    "embeddings.shape"
   ]
  },
  {
   "cell_type": "markdown",
   "id": "42d92a48",
   "metadata": {},
   "source": [
    "Indexing the data with FIASS"
   ]
  },
  {
   "cell_type": "code",
   "execution_count": 48,
   "id": "1ca53173",
   "metadata": {},
   "outputs": [],
   "source": [
    "import faiss\n",
    "import numpy as np\n",
    "\n",
    "# Convert to float32 (FAISS requires it)\n",
    "embedding_matrix = np.array(embeddings).astype('float32')\n",
    "\n",
    "# Build index (L2 or cosine - we'll use cosine)\n",
    "dimension = embedding_matrix.shape[1]\n",
    "index = faiss.IndexFlatIP(dimension)  # Inner Product = Cosine similarity (after normalization)\n",
    "\n",
    "# Normalize for cosine similarity\n",
    "faiss.normalize_L2(embedding_matrix)\n",
    "\n",
    "# Add vectors\n",
    "index.add(embedding_matrix)\n"
   ]
  },
  {
   "cell_type": "code",
   "execution_count": 49,
   "id": "735adca5",
   "metadata": {},
   "outputs": [],
   "source": [
    "def search_faiss(query, top_k=5):\n",
    "    # Encode and normalize query\n",
    "    query_vec = model.encode([query], convert_to_numpy=True)\n",
    "    faiss.normalize_L2(query_vec)\n",
    "\n",
    "    # Search index\n",
    "    scores, indices = index.search(query_vec, top_k)\n",
    "\n",
    "    # Retrieve the corresponding chunks\n",
    "    results = []\n",
    "    for i, score in zip(indices[0], scores[0]):\n",
    "        result = {\n",
    "            \"chunk_id\": all_chunks[i][\"chunk_id\"],\n",
    "            \"chapter\": all_chunks[i][\"chapter\"],\n",
    "            \"text\": all_chunks[i][\"text\"],\n",
    "            \"score\": float(score)\n",
    "        }\n",
    "        results.append(result)\n",
    "    \n",
    "    return results\n"
   ]
  },
  {
   "cell_type": "markdown",
   "id": "3218bdc4",
   "metadata": {},
   "source": [
    "LLM to Query"
   ]
  },
  {
   "cell_type": "code",
   "execution_count": 29,
   "id": "abaffbd7",
   "metadata": {},
   "outputs": [],
   "source": [
    "import openai\n",
    "from openai import OpenAI\n",
    "import os\n",
    "\n",
    "# Set up OpenAI API key\n",
    "#openai.api_key = os.getenv(\"OPENAI_API_KEY\")  # Ensure you have set this environment variable\n",
    "\n",
    "client = OpenAI(api_key = os.environ.get(\"OPENAI_API_KEY\"))\n",
    "\n",
    "#generate text\n",
    "def generate_text(prompt: str) -> str:\n",
    "    \"\"\"Generates text using the OpenAI API based on the provided prompt.\"\"\"\n",
    "    \n",
    "    # Make the API call\n",
    "    response = client.chat.completions.create(\n",
    "        model=\"gpt-4.1-mini\",  # A powerful and cost-effective choice\n",
    "        messages=[{\"role\": \"system\", \"content\": \"You are a creative short story writer who writes stories in a specified book style and answer questions based on it.\"},\n",
    "                  {\"role\": \"user\", \"content\": prompt}],\n",
    "        temperature=0.7,  # Adjust temperature for creativity\n",
    "    )\n",
    "    \n",
    "    return response.choices[0].message.content.strip()"
   ]
  },
  {
   "cell_type": "code",
   "execution_count": 30,
   "id": "7d66e1d1",
   "metadata": {},
   "outputs": [
    {
     "name": "stdout",
     "output_type": "stream",
     "text": [
      "That summer in Manchester was unlike any other. The rain, usually relentless, took a brief pause, letting the sun cast a hesitant glow over the red-brick terraces and cobbled streets. I was ten, the age when the world feels vast but the heart still small enough to be scared of shadows.\n",
      "\n",
      "My brother, Jamie, and I spent afternoons beneath the ancient chestnut tree in our garden, pretending we were explorers charting unknown lands. Mum called it “our little jungle,” and Dad, ever the storyteller, spun tales of cotton mills and workers’ struggles, threading history into our play.\n",
      "\n",
      "One day, a new boy arrived in the neighborhood — a quiet lad named Sam with eyes like the grey skies above. He carried a battered football and a secret smile. We invited him under the chestnut tree, where stories and laughter blossomed like the spring blooms we’d missed.\n",
      "\n",
      "But summer in Manchester isn’t just sunshine and friendship. The factories still hummed, the streets still whispered of hardship. Yet, amidst it all, that summer taught me about kindness, courage, and the simple truth that even the dullest days could hold a spark of hope. And sometimes, that’s enough to change everything.\n"
     ]
    }
   ],
   "source": [
    "generated_text = generate_text(\"In 200 words, write a short story in the style of 'To Kill a Mockingbird' about a summer in manchester, UK.\")\n",
    "print(generated_text)"
   ]
  },
  {
   "cell_type": "code",
   "execution_count": 50,
   "id": "2dd7c681",
   "metadata": {},
   "outputs": [
    {
     "name": "stdout",
     "output_type": "stream",
     "text": [
      "Chapter 31 | Chunk 31_15 | Score: 0.596\n",
      "his hands on his hips. Summertime, and his children played in the front yard with their friend, enacting a strange little drama of their own invention. It was fall, and his children fought on the sidewalk in front of Mrs. Dubose’s. The boy helped his sister to her feet, and they made their way home. Fall, and his children trotted to and fro around the corner, the day’s woes and triumphs on their faces. They stopped at an oak tree, delighted, puzzled, apprehensive. Winter, and his children shivered at the front gate, silhouetted against a blazing house. Winter, and a man walked into the street, dropped his glasses, and shot a dog. Summer, and he watched his children’s heart break. Autumn again, and Boo’s children needed him. Atticus was right. One time he said you never really know a man until you stand in his shoes and walk around in them. Just standing on the Radley porch was enough. The street lights were fuzzy from the fine rain that was falling. As I made my way home, I felt very old, but when I looked at the tip of my nose I could see fine misty beads, but looking cross-eyed made me dizzy so I quit. As I made my way home, I thought what a thing to tell Jem tomorrow. He’d be so mad he missed it he wouldn’t speak to me for days. As I made my way home, I thought Jem and I would get grown but there wasn’t much else left for\n",
      "---\n",
      "Chapter 31 | Chunk 31_16 | Score: 0.581\n",
      "to and fro around the corner, the day’s woes and triumphs on their faces. They stopped at an oak tree, delighted, puzzled, apprehensive. Winter, and his children shivered at the front gate, silhouetted against a blazing house. Winter, and a man walked into the street, dropped his glasses, and shot a dog. Summer, and he watched his children’s heart break. Autumn again, and Boo’s children needed him. Atticus was right. One time he said you never really know a man until you stand in his shoes and walk around in them. Just standing on the Radley porch was enough. The street lights were fuzzy from the fine rain that was falling. As I made my way home, I felt very old, but when I looked at the tip of my nose I could see fine misty beads, but looking cross-eyed made me dizzy so I quit. As I made my way home, I thought what a thing to tell Jem tomorrow. He’d be so mad he missed it he wouldn’t speak to me for days. As I made my way home, I thought Jem and I would get grown but there wasn’t much else left for us to learn, except possibly algebra. I ran up the steps and into the house. Aunt Alexandra had gone to bed, and Atticus’s room was dark. I would see if Jem might be reviving. Atticus was in Jem’s room, sitting by his bed. He was reading a book. “Is Jem awake yet?” “Sleeping peacefully. He won’t be awake until morning.”\n",
      "---\n",
      "Chapter 1 | Chunk 1_15 | Score: 0.558\n",
      "from the law. He liked Maycomb, he was Maycomb County born and bred; he knew his people, they knew him, and because of Simon Finch’s industry, Atticus was related by blood or marriage to nearly every family in the town. Maycomb was an old town, but it was a tired old town when I first knew it. In rainy weather the streets turned to red slop; grass grew on the sidewalks, the courthouse sagged in the square. Somehow, it was hotter then: a black dog suffered on a summer’s day; bony mules hitched to Hoover carts flicked flies in the sweltering shade of the live oaks on the square. Men’s stiff collars wilted by nine in the morning. Ladies bathed before noon, after their three-o’clock naps, and by nightfall were like soft teacakes with frostings of sweat and sweet talcum. People moved slowly then. They ambled across the square, shuffled in and out of the stores around it, took their time about everything. A day was twenty-four hours long but seemed longer. There was no hurry, for there was nowhere to go, nothing to buy and no money to buy it with, nothing to see outside the boundaries of Maycomb County. But it was a time of vague optimism for some of the people: Maycomb County had recently been told that it had nothing to fear but fear itself. We lived on the main residential street in town— Atticus, Jem and I, plus Calpurnia our cook. Jem and I found our father satisfactory: he played with\n",
      "---\n",
      "Chapter 21 | Chunk 21_24 | Score: 0.532\n",
      "the idea of asking everyone below to concentrate on setting Tom Robinson free, but thought if they were as tired as I, it wouldn’t work. Dill was sound asleep, his head on Jem’s shoulder, and Jem was quiet. “Ain’t it a long time?” I asked him. “Sure is, Scout,” he said happily. “Well, from the way you put it, it’d just take five minutes.” Jem raised his eyebrows. “There are things you don’t understand,” he said, and I was too weary to argue. But I must have been reasonably awake, or I would not have received the impression that was creeping into me. It was not unlike one I had last winter, and I shivered, though the night was hot. The feeling grew until the atmosphere in the courtroom was exactly the same as a cold February morning, when the mockingbirds were still, and the carpenters had stopped hammering on Miss Maudie’s new house, and every wood door in the neighborhood was shut as tight as the doors of the Radley Place. A deserted, waiting, empty street, and the courtroom was packed with people. A steaming summer night was no different from a winter morning. Mr. Heck Tate, who had entered the courtroom and was talking to Atticus, might have been wearing his high boots and lumber jacket. Atticus had stopped his tranquil journey and had put his foot onto the bottom rung of a chair; as he listened to what Mr. Tate was saying, he ran his hand slowly up and down his thigh. I\n",
      "---\n",
      "Chapter 1 | Chunk 1_16 | Score: 0.531\n",
      "the streets turned to red slop; grass grew on the sidewalks, the courthouse sagged in the square. Somehow, it was hotter then: a black dog suffered on a summer’s day; bony mules hitched to Hoover carts flicked flies in the sweltering shade of the live oaks on the square. Men’s stiff collars wilted by nine in the morning. Ladies bathed before noon, after their three-o’clock naps, and by nightfall were like soft teacakes with frostings of sweat and sweet talcum. People moved slowly then. They ambled across the square, shuffled in and out of the stores around it, took their time about everything. A day was twenty-four hours long but seemed longer. There was no hurry, for there was nowhere to go, nothing to buy and no money to buy it with, nothing to see outside the boundaries of Maycomb County. But it was a time of vague optimism for some of the people: Maycomb County had recently been told that it had nothing to fear but fear itself. We lived on the main residential street in town— Atticus, Jem and I, plus Calpurnia our cook. Jem and I found our father satisfactory: he played with us, read to us, and treated us with courteous detachment. Calpurnia was something else again. She was all angles and bones; she was nearsighted; she squinted; her hand was wide as a bed slat and twice as hard. She was always ordering me out of the kitchen, asking me why I couldn’t behave as well as Jem when she knew\n",
      "---\n"
     ]
    }
   ],
   "source": [
    "query = generated_text\n",
    "top_results = search_faiss(query, top_k=5)\n",
    "\n",
    "for res in top_results:\n",
    "    print(f\"Chapter {res['chapter']} | Chunk {res['chunk_id']} | Score: {res['score']:.3f}\")\n",
    "    print(res['text'])\n",
    "    print(\"---\")\n"
   ]
  },
  {
   "cell_type": "markdown",
   "id": "f44604e9",
   "metadata": {},
   "source": [
    "Reranker"
   ]
  },
  {
   "cell_type": "code",
   "execution_count": 51,
   "id": "71aaafe0",
   "metadata": {},
   "outputs": [],
   "source": [
    "from sentence_transformers import CrossEncoder\n",
    "_reranker = None\n",
    "\n",
    "def get_reranker():\n",
    "    global _reranker\n",
    "    if _reranker is None:\n",
    "        _reranker = CrossEncoder('cross-encoder/ms-marco-MiniLM-L-6-v2')\n",
    "    return _reranker"
   ]
  },
  {
   "cell_type": "code",
   "execution_count": 60,
   "id": "ef87ed5f",
   "metadata": {},
   "outputs": [],
   "source": [
    "# FAISS -> Cross-Encoder re-ranking\n",
    "# topN: how many candidates to pull from FAISS before re-ranking\n",
    "# final_topk: how many to return after re-ranking\n",
    "\n",
    "from collections import defaultdict\n",
    "\n",
    "def search_faiss_rerank(query, topN=100, final_topk=10, group_by_chapter=False, per_chapter=3, batch_size=32):\n",
    "    # 1) Retrieve candidates with FAISS\n",
    "    import faiss\n",
    "    q = model.encode([query], convert_to_numpy=True)\n",
    "    faiss.normalize_L2(q)\n",
    "    scores, idxs = index.search(q, topN)\n",
    "\n",
    "    candidates = []\n",
    "    for j, i in enumerate(idxs[0]):\n",
    "        candidates.append({\n",
    "            \"chunk_id\": all_chunks[i][\"chunk_id\"],\n",
    "            \"chapter\": all_chunks[i][\"chapter\"],\n",
    "            \"text\": all_chunks[i][\"text\"],\n",
    "            \"retrieval_score\": float(scores[0][j]),\n",
    "            \"_idx\": int(i)\n",
    "        })\n",
    "\n",
    "    if not candidates:\n",
    "        return []\n",
    "      # 2) Re-rank with cross-encoder\n",
    "    ce = get_reranker()\n",
    "    pairs = [(query, c[\"text\"]) for c in candidates]\n",
    "    ce_scores = ce.predict(pairs, batch_size=batch_size)\n",
    "    for c, s in zip(candidates, ce_scores):\n",
    "        c[\"ce_score\"] = float(s)\n",
    "\n",
    "    # 3) Sort by CE score and slice\n",
    "    candidates.sort(key=lambda x: x[\"ce_score\"], reverse=True)\n",
    "    top = candidates[:final_topk]\n",
    "\n",
    "    if not group_by_chapter:\n",
    "        return top\n",
    "\n",
    "    # 4) Optional: chapter-aware grouping\n",
    "    buckets = defaultdict(list)\n",
    "    for c in top:\n",
    "        buckets[c[\"chapter\"]].append(c)\n",
    "\n",
    "    cards = []\n",
    "    for chap, items in buckets.items():\n",
    "        items.sort(key=lambda x: x[\"ce_score\"], reverse=True)\n",
    "        chapter_score = max(i[\"ce_score\"] for i in items)\n",
    "        cards.append({\n",
    "            \"chapter\": chap,\n",
    "            \"chapter_score\": chapter_score,\n",
    "            \"chunks\": items[:per_chapter]\n",
    "        })\n",
    "\n",
    "    cards.sort(key=lambda x: x[\"chapter_score\"], reverse=True)\n",
    "    return cards\n"
   ]
  },
  {
   "cell_type": "code",
   "execution_count": 61,
   "id": "0b321a3b",
   "metadata": {},
   "outputs": [],
   "source": [
    "search_faiss_rerank = search_faiss_rerank(generated_text, topN=100, final_topk=10, group_by_chapter=True, per_chapter=3, batch_size=32)"
   ]
  },
  {
   "cell_type": "code",
   "execution_count": 62,
   "id": "a9b7b131",
   "metadata": {},
   "outputs": [
    {
     "data": {
      "text/plain": [
       "[{'chapter': 21,\n",
       "  'chapter_score': -4.84617805480957,\n",
       "  'chunks': [{'chunk_id': '21_24',\n",
       "    'chapter': 21,\n",
       "    'text': 'the idea of asking everyone below to concentrate on setting Tom Robinson free, but thought if they were as tired as I, it wouldn’t work. Dill was sound asleep, his head on Jem’s shoulder, and Jem was quiet. “Ain’t it a long time?” I asked him. “Sure is, Scout,” he said happily. “Well, from the way you put it, it’d just take five minutes.” Jem raised his eyebrows. “There are things you don’t understand,” he said, and I was too weary to argue. But I must have been reasonably awake, or I would not have received the impression that was creeping into me. It was not unlike one I had last winter, and I shivered, though the night was hot. The feeling grew until the atmosphere in the courtroom was exactly the same as a cold February morning, when the mockingbirds were still, and the carpenters had stopped hammering on Miss Maudie’s new house, and every wood door in the neighborhood was shut as tight as the doors of the Radley Place. A deserted, waiting, empty street, and the courtroom was packed with people. A steaming summer night was no different from a winter morning. Mr. Heck Tate, who had entered the courtroom and was talking to Atticus, might have been wearing his high boots and lumber jacket. Atticus had stopped his tranquil journey and had put his foot onto the bottom rung of a chair; as he listened to what Mr. Tate was saying, he ran his hand slowly up and down his thigh. I',\n",
       "    'retrieval_score': 0.531566858291626,\n",
       "    '_idx': 1232,\n",
       "    'ce_score': -4.84617805480957},\n",
       "   {'chunk_id': '21_25',\n",
       "    'chapter': 21,\n",
       "    'text': 'just take five minutes.” Jem raised his eyebrows. “There are things you don’t understand,” he said, and I was too weary to argue. But I must have been reasonably awake, or I would not have received the impression that was creeping into me. It was not unlike one I had last winter, and I shivered, though the night was hot. The feeling grew until the atmosphere in the courtroom was exactly the same as a cold February morning, when the mockingbirds were still, and the carpenters had stopped hammering on Miss Maudie’s new house, and every wood door in the neighborhood was shut as tight as the doors of the Radley Place. A deserted, waiting, empty street, and the courtroom was packed with people. A steaming summer night was no different from a winter morning. Mr. Heck Tate, who had entered the courtroom and was talking to Atticus, might have been wearing his high boots and lumber jacket. Atticus had stopped his tranquil journey and had put his foot onto the bottom rung of a chair; as he listened to what Mr. Tate was saying, he ran his hand slowly up and down his thigh. I expected Mr. Tate to say any minute, “Take him, Mr. Finch…” But Mr. Tate said, “This court will come to order,” in a voice that rang with authority, and the heads below us jerked up. Mr. Tate left the room and returned with Tom Robinson. He steered Tom to his place beside Atticus, and stood there. Judge Taylor had roused',\n",
       "    'retrieval_score': 0.5152110457420349,\n",
       "    '_idx': 1233,\n",
       "    'ce_score': -6.288549423217773}]},\n",
       " {'chapter': 31,\n",
       "  'chapter_score': -5.277626037597656,\n",
       "  'chunks': [{'chunk_id': '31_15',\n",
       "    'chapter': 31,\n",
       "    'text': 'his hands on his hips. Summertime, and his children played in the front yard with their friend, enacting a strange little drama of their own invention. It was fall, and his children fought on the sidewalk in front of Mrs. Dubose’s. The boy helped his sister to her feet, and they made their way home. Fall, and his children trotted to and fro around the corner, the day’s woes and triumphs on their faces. They stopped at an oak tree, delighted, puzzled, apprehensive. Winter, and his children shivered at the front gate, silhouetted against a blazing house. Winter, and a man walked into the street, dropped his glasses, and shot a dog. Summer, and he watched his children’s heart break. Autumn again, and Boo’s children needed him. Atticus was right. One time he said you never really know a man until you stand in his shoes and walk around in them. Just standing on the Radley porch was enough. The street lights were fuzzy from the fine rain that was falling. As I made my way home, I felt very old, but when I looked at the tip of my nose I could see fine misty beads, but looking cross-eyed made me dizzy so I quit. As I made my way home, I thought what a thing to tell Jem tomorrow. He’d be so mad he missed it he wouldn’t speak to me for days. As I made my way home, I thought Jem and I would get grown but there wasn’t much else left for',\n",
       "    'retrieval_score': 0.5963537693023682,\n",
       "    '_idx': 1660,\n",
       "    'ce_score': -5.277626037597656},\n",
       "   {'chunk_id': '31_13',\n",
       "    'chapter': 31,\n",
       "    'text': 'left of the brown door was a long shuttered window. I walked to it, stood in front of it, and turned around. In daylight, I thought, you could see to the postoffice corner. Daylight… in my mind, the night faded. It was daytime and the neighborhood was busy. Miss Stephanie Crawford crossed the street to tell the latest to Miss Rachel. Miss Maudie bent over her azaleas. It was summertime, and two children scampered down the sidewalk toward a man approaching in the distance. The man waved, and the children raced each other to him. It was still summertime, and the children came closer. A boy trudged down the sidewalk dragging a fishingpole behind him. A man stood waiting with his hands on his hips. Summertime, and his children played in the front yard with their friend, enacting a strange little drama of their own invention. It was fall, and his children fought on the sidewalk in front of Mrs. Dubose’s. The boy helped his sister to her feet, and they made their way home. Fall, and his children trotted to and fro around the corner, the day’s woes and triumphs on their faces. They stopped at an oak tree, delighted, puzzled, apprehensive. Winter, and his children shivered at the front gate, silhouetted against a blazing house. Winter, and a man walked into the street, dropped his glasses, and shot a dog. Summer, and he watched his children’s heart break. Autumn again, and Boo’s children needed him. Atticus was right. One time he said you never',\n",
       "    'retrieval_score': 0.47214600443840027,\n",
       "    '_idx': 1658,\n",
       "    'ce_score': -5.489865303039551},\n",
       "   {'chunk_id': '31_16',\n",
       "    'chapter': 31,\n",
       "    'text': 'to and fro around the corner, the day’s woes and triumphs on their faces. They stopped at an oak tree, delighted, puzzled, apprehensive. Winter, and his children shivered at the front gate, silhouetted against a blazing house. Winter, and a man walked into the street, dropped his glasses, and shot a dog. Summer, and he watched his children’s heart break. Autumn again, and Boo’s children needed him. Atticus was right. One time he said you never really know a man until you stand in his shoes and walk around in them. Just standing on the Radley porch was enough. The street lights were fuzzy from the fine rain that was falling. As I made my way home, I felt very old, but when I looked at the tip of my nose I could see fine misty beads, but looking cross-eyed made me dizzy so I quit. As I made my way home, I thought what a thing to tell Jem tomorrow. He’d be so mad he missed it he wouldn’t speak to me for days. As I made my way home, I thought Jem and I would get grown but there wasn’t much else left for us to learn, except possibly algebra. I ran up the steps and into the house. Aunt Alexandra had gone to bed, and Atticus’s room was dark. I would see if Jem might be reviving. Atticus was in Jem’s room, sitting by his bed. He was reading a book. “Is Jem awake yet?” “Sleeping peacefully. He won’t be awake until morning.”',\n",
       "    'retrieval_score': 0.58050537109375,\n",
       "    '_idx': 1661,\n",
       "    'ce_score': -5.765515327453613}]},\n",
       " {'chapter': 1,\n",
       "  'chapter_score': -5.989131450653076,\n",
       "  'chunks': [{'chunk_id': '1_16',\n",
       "    'chapter': 1,\n",
       "    'text': 'the streets turned to red slop; grass grew on the sidewalks, the courthouse sagged in the square. Somehow, it was hotter then: a black dog suffered on a summer’s day; bony mules hitched to Hoover carts flicked flies in the sweltering shade of the live oaks on the square. Men’s stiff collars wilted by nine in the morning. Ladies bathed before noon, after their three-o’clock naps, and by nightfall were like soft teacakes with frostings of sweat and sweet talcum. People moved slowly then. They ambled across the square, shuffled in and out of the stores around it, took their time about everything. A day was twenty-four hours long but seemed longer. There was no hurry, for there was nowhere to go, nothing to buy and no money to buy it with, nothing to see outside the boundaries of Maycomb County. But it was a time of vague optimism for some of the people: Maycomb County had recently been told that it had nothing to fear but fear itself. We lived on the main residential street in town— Atticus, Jem and I, plus Calpurnia our cook. Jem and I found our father satisfactory: he played with us, read to us, and treated us with courteous detachment. Calpurnia was something else again. She was all angles and bones; she was nearsighted; she squinted; her hand was wide as a bed slat and twice as hard. She was always ordering me out of the kitchen, asking me why I couldn’t behave as well as Jem when she knew',\n",
       "    'retrieval_score': 0.5310857892036438,\n",
       "    '_idx': 15,\n",
       "    'ce_score': -5.989131450653076},\n",
       "   {'chunk_id': '1_15',\n",
       "    'chapter': 1,\n",
       "    'text': 'from the law. He liked Maycomb, he was Maycomb County born and bred; he knew his people, they knew him, and because of Simon Finch’s industry, Atticus was related by blood or marriage to nearly every family in the town. Maycomb was an old town, but it was a tired old town when I first knew it. In rainy weather the streets turned to red slop; grass grew on the sidewalks, the courthouse sagged in the square. Somehow, it was hotter then: a black dog suffered on a summer’s day; bony mules hitched to Hoover carts flicked flies in the sweltering shade of the live oaks on the square. Men’s stiff collars wilted by nine in the morning. Ladies bathed before noon, after their three-o’clock naps, and by nightfall were like soft teacakes with frostings of sweat and sweet talcum. People moved slowly then. They ambled across the square, shuffled in and out of the stores around it, took their time about everything. A day was twenty-four hours long but seemed longer. There was no hurry, for there was nowhere to go, nothing to buy and no money to buy it with, nothing to see outside the boundaries of Maycomb County. But it was a time of vague optimism for some of the people: Maycomb County had recently been told that it had nothing to fear but fear itself. We lived on the main residential street in town— Atticus, Jem and I, plus Calpurnia our cook. Jem and I found our father satisfactory: he played with',\n",
       "    'retrieval_score': 0.557551383972168,\n",
       "    '_idx': 14,\n",
       "    'ce_score': -6.571283340454102}]},\n",
       " {'chapter': 13,\n",
       "  'chapter_score': -6.22377872467041,\n",
       "  'chunks': [{'chunk_id': '13_28',\n",
       "    'chapter': 13,\n",
       "    'text': 'was ignored during the War Between the States, Reconstruction rule and economic ruin forced the town to grow. It grew inward. New people so rarely settled there, the same families married the same families until the members of the community looked faintly alike. Occasionally someone would return from Montgomery or Mobile with an outsider, but the result caused only a ripple in the quiet stream of family resemblance. Things were more or less the same during my early years. There was indeed a caste system in Maycomb, but to my mind it worked this way: the older citizens, the present generation of people who had lived side by side for years and years, were utterly predictable to one another: they took for granted attitudes, character shadings, even gestures, as having been repeated in each generation and refined by time. Thus the dicta No Crawford Minds His Own Business, Every Third Merriweather Is Morbid, The Truth Is Not in the Delafields, All the Bufords Walk Like That, were simply guides to daily living: never take a check from a Delafield without a discreet call to the bank; Miss Maudie Atkinson’s shoulder stoops because she was a Buford; if Mrs. Grace Merriweather sips gin out of Lydia E. Pinkham bottles it’s nothing unusual—her mother did the same. Aunt Alexandra fitted into the world of Maycomb like a hand into a glove, but never into the world of Jem and me. I so often wondered how she could be Atticus’s and Uncle Jack’s sister that I revived half-remembered tales',\n",
       "    'retrieval_score': 0.4809466004371643,\n",
       "    '_idx': 759,\n",
       "    'ce_score': -6.22377872467041}]},\n",
       " {'chapter': 28,\n",
       "  'chapter_score': -6.311529636383057,\n",
       "  'chunks': [{'chunk_id': '28_1',\n",
       "    'chapter': 28,\n",
       "    'text': 'The weather was unusually warm for the last day of October. We didn’t even need jackets. The wind was growing stronger, and Jem said it might be raining before we got home. There was no moon. The street light on the corner cast sharp shadows on the Radley house. I heard Jem laugh softly. “Bet nobody bothers them tonight,” he said. Jem was carrying my ham costume, rather awkwardly, as it was hard to hold. I thought it gallant of him to do so. “It is a scary place though, ain’t it?” I said. “Boo doesn’t mean anybody any harm, but I’m right glad you’re along.” “You know Atticus wouldn’t let you go to the schoolhouse by yourself,” Jem said. “Don’t see why, it’s just around the corner and across the yard.” “That yard’s a mighty long place for little girls to cross at night,” Jem teased. “Ain’t you scared of haints?” We laughed. Haints, Hot Steams, incantations, secret signs, had vanished with our years as mist with sunrise. “What was that old thing,” Jem said, “Angel bright, life-in-death; get off the road, don’t suck my breath.” “Cut it out, now,” I said. We were in front of the Radley Place. Jem said, “Boo must not be at home. Listen.” High above us in the darkness a solitary mocker poured out his repertoire in blissful unawareness of whose tree he sat in, plunging from the shrill kee, kee of the sunflower bird to the irascible qua-ack of a bluejay, to the sad lament of Poor Will,',\n",
       "    'retrieval_score': 0.5274856090545654,\n",
       "    '_idx': 1508,\n",
       "    'ce_score': -6.311529636383057}]},\n",
       " {'chapter': 26,\n",
       "  'chapter_score': -6.323234558105469,\n",
       "  'chunks': [{'chunk_id': '26_8',\n",
       "    'chapter': 26,\n",
       "    'text': 'Radley before I died. “If you are, I’ll tell you right now: stop it. I’m too old to go chasing you off the Radley property. Besides, it’s dangerous. You might get shot. You know Mr. Nathan shoots at every shadow he sees, even shadows that leave size-four bare footprints. You were lucky not to be killed.” I hushed then and there. At the same time I marveled at Atticus. This was the first he had let us know he knew a lot more about something than we thought he knew. And it had happened years ago. No, only last summer—no, summer before last, when… time was playing tricks on me. I must remember to ask Jem. So many things had happened to us, Boo Radley was the least of our fears. Atticus said he didn’t see how anything else could happen, that things had a way of settling down, and after enough time passed people would forget that Tom Robinson’s existence was ever brought to their attention. Perhaps Atticus was right, but the events of the summer hung over us like smoke in a closed room. The adults in Maycomb never discussed the case with Jem and me; it seemed that they discussed it with their children, and their attitude must have been that neither of us could help having Atticus for a parent, so their children must be nice to us in spite of him. The children would never have thought that up for themselves: had our classmates been left to their own devices, Jem',\n",
       "    'retrieval_score': 0.4793173670768738,\n",
       "    '_idx': 1435,\n",
       "    'ce_score': -6.323234558105469}]}]"
      ]
     },
     "execution_count": 62,
     "metadata": {},
     "output_type": "execute_result"
    }
   ],
   "source": [
    "search_faiss_rerank"
   ]
  },
  {
   "cell_type": "markdown",
   "id": "fa864d3d",
   "metadata": {},
   "source": [
    "Evaluation"
   ]
  },
  {
   "cell_type": "code",
   "execution_count": null,
   "id": "9c279c6a",
   "metadata": {},
   "outputs": [],
   "source": []
  }
 ],
 "metadata": {
  "kernelspec": {
   "display_name": "Python 3",
   "language": "python",
   "name": "python3"
  },
  "language_info": {
   "codemirror_mode": {
    "name": "ipython",
    "version": 3
   },
   "file_extension": ".py",
   "mimetype": "text/x-python",
   "name": "python",
   "nbconvert_exporter": "python",
   "pygments_lexer": "ipython3",
   "version": "3.11.9"
  }
 },
 "nbformat": 4,
 "nbformat_minor": 5
}
