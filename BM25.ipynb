{
 "cells": [
  {
   "cell_type": "markdown",
   "id": "bc9f2cc3",
   "metadata": {},
   "source": [
    "Loading Data"
   ]
  },
  {
   "cell_type": "code",
   "execution_count": 1,
   "id": "60974406",
   "metadata": {},
   "outputs": [],
   "source": [
    "import re\n",
    "\n",
    "# Load the book's text\n",
    "with open('data/TKMBFullBook.txt', 'r', encoding='utf-8') as f:\n",
    "    text = f.read()"
   ]
  },
  {
   "cell_type": "markdown",
   "id": "520159e0",
   "metadata": {},
   "source": [
    "Cleaing book by spliting the chapters"
   ]
  },
  {
   "cell_type": "code",
   "execution_count": 2,
   "id": "b9b11ad2",
   "metadata": {},
   "outputs": [],
   "source": [
    "chapters = re.split(r'Chapter \\d+', text)\n",
    "if chapters[0].strip() == \"\":\n",
    "    chapters.pop(0) # Remove the empty string before the first chapter"
   ]
  },
  {
   "cell_type": "markdown",
   "id": "a544cdc1",
   "metadata": {},
   "source": [
    "Tokenizing by sentences and chunking by paragraphs"
   ]
  },
  {
   "cell_type": "code",
   "execution_count": 5,
   "id": "944ca1d4",
   "metadata": {},
   "outputs": [
    {
     "name": "stderr",
     "output_type": "stream",
     "text": [
      "[nltk_data] Downloading package punkt to\n",
      "[nltk_data]     C:\\Users\\salij\\AppData\\Roaming\\nltk_data...\n",
      "[nltk_data]   Package punkt is already up-to-date!\n"
     ]
    },
    {
     "name": "stdout",
     "output_type": "stream",
     "text": [
      "Total chunks created: 118\n",
      "Example chunk: {'chapter': 1, 'chunk_id': '1_1', 'sent_start': 0, 'sent_end': 100, 'text': 'When he was nearly thirteen, my brother Jem got his arm badly broken at the \\nelbow. When it healed, and Jem’s fears of never being able to play football were \\nassuaged, he was seldom self-conscious about his injury. His left arm was \\nsomewhat shorter than his right; when he stood or walked, the back of his hand \\nwas at right angles to his body, his thumb parallel to his thigh. He couldn’t have \\ncared less, so long as he could pass and punt. When enough years had gone by to enable us to look back on them, we \\nsometimes discussed the events leading to his accident. I maintain that the Ewells \\nstarted it all, but Jem, who was four years my senior, said it started long before \\nthat. He said it began the summer Dill came to us, when Dill first gave us the idea \\nof making Boo Radley come out. I said if he wanted to take a broad view of the thing, it really began with Andrew \\nJackson. If General Jackson hadn’t run the Creeks up the creek, Simon Finch \\nwould never have paddled up the Alabama, and where would we be if he hadn’t? We were far too old to settle an argument with a fist-fight, so we consulted \\nAtticus. Our father said we were both right. Being Southerners, it was a source of shame to some members of the family that \\nwe had no recorded ancestors on either side of the Battle of Hastings. All we had \\nwas Simon Finch, a fur-trapping apothecary from Cornwall whose piety was \\nexceeded only by his stinginess. In England, Simon was irritated by the \\npersecution of those who called themselves Methodists at the hands of their more \\nliberal brethren, and as Simon called himself a Methodist, he worked his way \\nacross the Atlantic to Philadelphia, thence to Jamaica, thence to Mobile, and up \\nthe Saint Stephens. Mindful of John Wesley’s strictures on the use of many words \\nin buying and selling, Simon made a pile practicing medicine, but in this pursuit \\nhe was unhappy lest he be tempted into doing what he knew was not for the glory \\nof God, as the putting on of gold and costly apparel. So Simon, having forgotten \\nhis teacher’s dictum on the possession of human chattels, bought three slaves and \\nwith their aid established a homestead on the banks of the Alabama River some \\nforty miles above Saint Stephens. He returned to Saint Stephens only once, to find \\na wife, and with her established a line that ran high to daughters. Simon lived to \\nan impressive age and died rich. It was customary for the men in the family to remain on Simon’s homestead, \\nFinch’s Landing, and make their living from cotton. The place was self-sufficient: \\nmodest in comparison with the empires around it, the Landing nevertheless \\nproduced everything required to sustain life except ice, wheat flour, and articles \\nof clothing, supplied by river-boats from Mobile. Simon would have regarded with impotent fury the disturbance between the North \\nand the South, as it left his descendants stripped of everything but their land, yet \\nthe tradition of living on the land remained unbroken until well into the twentieth \\ncentury, when my father, Atticus Finch, went to Montgomery to read law, and his \\nyounger brother went to Boston to study medicine. Their sister Alexandra was the \\nFinch who remained at the Landing: she married a taciturn man who spent most \\nof his time lying in a hammock by the river wondering if his trot-lines were full. When my father was admitted to the bar, he returned to Maycomb and began his \\npractice. Maycomb, some twenty miles east of Finch’s Landing, was the county \\nseat of Maycomb County. Atticus’s office in the courthouse contained little more \\nthan a hat rack, a spittoon, a checkerboard and an unsullied Code of Alabama. His \\nfirst two clients were the last two persons hanged in the Maycomb County jail. Atticus had urged them to accept the state’s generosity in allowing them to plead \\nGuilty to second-degree murder and escape with their lives, but they were \\nHaverfords, in Maycomb County a name synonymous with jackass. The \\nHaverfords had dispatched Maycomb’s leading blacksmith in a misunderstanding \\narising from the alleged wrongful detention of a mare, were imprudent enough to \\ndo it in the presence of three witnesses, and insisted that the-son-of-a-bitch-had-it\\ncoming-to-him was a good enough defense for anybody. They persisted in \\npleading Not Guilty to first-degree murder, so there was nothing much Atticus \\ncould do for his clients except be present at their departure, an occasion that was \\nprobably the beginning of my father’s profound distaste for the practice of \\ncriminal law. During his first five years in Maycomb, Atticus practiced economy more than \\nanything; for several years thereafter he invested his earnings in his brother’s \\neducation. John Hale Finch was ten years younger than my father, and chose to \\nstudy medicine at a time when cotton was not worth growing; but after getting \\nUncle Jack started, Atticus derived a reasonable income from the law. He liked \\nMaycomb, he was Maycomb County born and bred; he knew his people, they \\nknew him, and because of Simon Finch’s industry, Atticus was related by blood \\nor marriage to nearly every family in the town. Maycomb was an old town, but it was a tired old town when I first knew it. In \\nrainy weather the streets turned to red slop; grass grew on the sidewalks, the \\ncourthouse sagged in the square. Somehow, it was hotter then: a black dog \\nsuffered on a summer’s day; bony mules hitched to Hoover carts flicked flies in \\nthe sweltering shade of the live oaks on the square. Men’s stiff collars wilted by \\nnine in the morning. Ladies bathed before noon, after their three-o’clock naps, \\nand by nightfall were like soft teacakes with frostings of sweat and sweet talcum. People moved slowly then. They ambled across the square, shuffled in and out of \\nthe stores around it, took their time about everything. A day was twenty-four \\nhours long but seemed longer. There was no hurry, for there was nowhere to go, \\nnothing to buy and no money to buy it with, nothing to see outside the boundaries \\nof Maycomb County. But it was a time of vague optimism for some of the people: \\nMaycomb County had recently been told that it had nothing to fear but fear itself. We lived on the main residential street in town— Atticus, Jem and I, plus \\nCalpurnia our cook. Jem and I found our father satisfactory: he played with us, \\nread to us, and treated us with courteous detachment. Calpurnia was something else again. She was all angles and bones; she was \\nnearsighted; she squinted; her hand was wide as a bed slat and twice as hard. She \\nwas always ordering me out of the kitchen, asking me why I couldn’t behave as \\nwell as Jem when she knew he was older, and calling me home when I wasn’t \\nready to come. Our battles were epic and one-sided. Calpurnia always won, \\nmainly because Atticus always took her side. She had been with us ever since Jem \\nwas born, and I had felt her tyrannical presence as long as I could remember. Our mother died when I was two, so I never felt her absence. She was a Graham \\nfrom Montgomery; Atticus met her when he was first elected to the state \\nlegislature. He was middle-aged then, she was fifteen years his junior. Jem was \\nthe product of their first year of marriage; four years later I was born, and two \\nyears later our mother died from a sudden heart attack. They said it ran in her \\nfamily. I did not miss her, but I think Jem did. He remembered her clearly, and \\nsometimes in the middle of a game he would sigh at length, then go off and play \\nby himself behind the car-house. When he was like that, I knew better than to \\nbother him. When I was almost six and Jem was nearly ten, our summertime boundaries \\n(within calling distance of Calpurnia) were Mrs. Henry Lafayette Dubose’s house \\ntwo doors to the north of us, and the Radley Place three doors to the south. We \\nwere never tempted to break them. The Radley Place was inhabited by an \\nunknown entity the mere description of whom was enough to make us behave for \\ndays on end; Mrs. Dubose was plain hell. That was the summer Dill came to us. Early one morning as we were beginning our day’s play in the back yard, Jem and \\nI heard something next door in Miss Rachel Haverford’s collard patch. We went \\nto the wire fence to see if there was a puppy— Miss Rachel’s rat terrier was \\nexpecting— instead we found someone sitting looking at us. Sitting down, he \\nwasn’t much higher than the collards. We stared at him until he spoke:\\n “Hey.”\\n “Hey yourself,” said Jem pleasantly. “I’m Charles Baker Harris,” he said. “I can read.”\\n “So what?” I said. “I just thought you’d like to know I can read. You got anything needs readin‘ I \\ncan do it…”\\n “How old are you,” asked Jem, “four-and-a-half?”\\n “Goin‘ on seven.”\\n “Shoot no wonder, then,” said Jem, jerking his thumb at me. “Scout yonder’s \\nbeen readin‘ ever since she was born, and she ain’t even started to school yet. You \\nlook right puny for goin’ on seven.”\\n “I’m little but I’m old,” he said. Jem brushed his hair back to get a better look. “Why don’t you come over, \\nCharles Baker Harris?” he said. “Lord, what a name.”\\n “‘s not any funnier’n yours. Aunt Rachel says your name’s Jeremy Atticus Finch.”\\n Jem scowled. “I’m big enough to fit mine,” he said. “Your name’s longer’n you \\nare. Bet it’s a foot longer.”\\n “Folks call me Dill,” said Dill, struggling under the fence. “Do better if you go over it instead of under it,” I said. “Where’d you come from?”\\n Dill was from Meridian, Mississippi, was spending the summer with his aunt, \\nMiss Rachel, and would be spending every summer in Maycomb from now on. His family was from Maycomb County originally, his mother worked for a \\nphotographer in Meridian, had entered his picture in a Beautiful Child contest and \\nwon five dollars. She gave the money to Dill, who went to the picture show \\ntwenty times on it. “Don’t have any picture shows here, except Jesus ones in the courthouse \\nsometimes,” said Jem. “Ever see anything good?”\\nDill had seen Dracula, a revelation that moved Jem to eye him with the beginning \\nof respect. “Tell it to us,” he said. Dill was a curiosity. He wore blue linen shorts that buttoned to his shirt, his hair \\nwas snow white and stuck to his head like duckfluff; he was a year my senior but \\nI towered over him. As he told us the old tale his blue eyes would lighten and \\ndarken; his laugh was sudden and happy; he habitually pulled at a cowlick in the \\ncenter of his forehead. When Dill reduced Dracula to dust, and Jem said the show sounded better than \\nthe book, I asked Dill where his father was: “You ain’t said anything about him.”\\n “I haven’t got one.”\\n “Is he dead?”\\n “No…”\\n “Then if he’s not dead you’ve got one, haven’t you?”\\n Dill blushed and Jem told me to hush, a sure sign that Dill had been studied and \\nfound acceptable. Thereafter the summer passed in routine contentment. Routine \\ncontentment was: improving our treehouse that rested between giant twin \\nchinaberry trees in the back yard, fussing, running through our list of dramas \\nbased on the works of Oliver Optic, Victor Appleton, and Edgar Rice Burroughs. In this matter we were lucky to have Dill. He played the character parts formerly \\nthrust upon me— the ape in Tarzan, Mr. Crabtree in The Rover Boys, Mr. Damon \\nin Tom Swift. Thus we came to know Dill as a pocket Merlin, whose head teemed \\nwith eccentric plans, strange longings, and quaint fancies. But by the end of August our repertoire was vapid from countless reproductions, \\nand it was then that Dill gave us the idea of making Boo Radley come out. The Radley Place fascinated Dill. In spite of our warnings and explanations it \\ndrew him as the moon draws water, but drew him no nearer than the light-pole on \\nthe corner, a safe distance from the Radley gate. There he would stand, his arm \\naround the fat pole, staring and wondering. The Radley Place jutted into a sharp curve beyond our house.'}\n"
     ]
    }
   ],
   "source": [
    "import nltk\n",
    "nltk.download('punkt')   # run once\n",
    "\n",
    "from nltk.tokenize import sent_tokenize\n",
    "\n",
    "# WINDOW and STRIDE are now measured in sentences\n",
    "WINDOW =100   # number of sentences per chunk (adjust to your needs)\n",
    "STRIDE = 40  # shift in sentences for the next chunk\n",
    "MIN_SENTENCES = 1  # minimum sentences to keep a final short chunk\n",
    "\n",
    "def chapter_to_sentence_chunks(chapter_text, window=WINDOW, stride=STRIDE, min_sentences=MIN_SENTENCES):\n",
    "    \"\"\"\n",
    "    Split chapter_text into overlapping chunks where each chunk is composed of whole sentences.\n",
    "    Returns a list of dicts with 'text', 'sent_start', 'sent_end' (inclusive/exclusive indices).\n",
    "    \"\"\"\n",
    "    sents = sent_tokenize(chapter_text.strip())\n",
    "    chunks = []\n",
    "\n",
    "    if not sents:\n",
    "        return chunks\n",
    "\n",
    "    for start in range(0, len(sents), stride):\n",
    "        end = start + window\n",
    "        # allow final shorter chunk (no 'break')\n",
    "        chunk_sents = sents[start:end]\n",
    "        if not chunk_sents:\n",
    "            break\n",
    "        # optionally skip tiny final chunks\n",
    "        if len(chunk_sents) < min_sentences:\n",
    "            continue\n",
    "\n",
    "        chunk_text = \" \".join(chunk_sents).strip()\n",
    "        chunks.append({\n",
    "            \"text\": chunk_text,\n",
    "            \"sent_start\": start,\n",
    "            \"sent_end\": min(end, len(sents)),  # exclusive\n",
    "        })\n",
    "\n",
    "        # Stop if we've reached the end\n",
    "        if end >= len(sents):\n",
    "            break\n",
    "\n",
    "    return chunks\n",
    "\n",
    "# Build the full corpus of chunks per chapter\n",
    "all_chunks = []\n",
    "for chap_num, chap_text in enumerate(chapters, start=1):\n",
    "    chunks = chapter_to_sentence_chunks(chap_text, window=WINDOW, stride=STRIDE)\n",
    "    for i, c in enumerate(chunks, start=1):\n",
    "        all_chunks.append({\n",
    "            \"chapter\": chap_num,\n",
    "            \"chunk_id\": f\"{chap_num}_{i}\",\n",
    "            \"sent_start\": c[\"sent_start\"],\n",
    "            \"sent_end\": c[\"sent_end\"],\n",
    "            \"text\": c[\"text\"]\n",
    "        })\n",
    "\n",
    "print(f\"Total chunks created: {len(all_chunks)}\")\n",
    "print(\"Example chunk:\", all_chunks[0])\n"
   ]
  },
  {
   "cell_type": "markdown",
   "id": "a37be788",
   "metadata": {},
   "source": [
    "Analysing chunk length distribution"
   ]
  },
  {
   "cell_type": "code",
   "execution_count": 30,
   "id": "ca0677d9",
   "metadata": {},
   "outputs": [
    {
     "data": {
      "image/png": "[encoded data removed]",
      "text/plain": [
       "<Figure size 640x480 with 1 Axes>"
      ]
     },
     "metadata": {},
     "output_type": "display_data"
    }
   ],
   "source": [
    "#TODO: Analyze the distribution of chunk lengths\n",
    "import matplotlib.pyplot as plt\n",
    "\n",
    "token_lengths = [len(word_tokenize(chunk['text'])) for chunk in all_chunks]\n",
    "plt.hist(token_lengths, bins=20)\n",
    "plt.xlabel('Token Length') # Length of each text chunk\n",
    "plt.ylabel('Frequency') # Number of chunks with a given length\n",
    "plt.title('Distribution of Token Lengths')\n",
    "plt.show()"
   ]
  },
  {
   "cell_type": "markdown",
   "id": "6ae259fe",
   "metadata": {},
   "source": [
    "Lemmatization of words to increase model context"
   ]
  },
  {
   "cell_type": "code",
   "execution_count": 6,
   "id": "6cae54b0",
   "metadata": {},
   "outputs": [],
   "source": [
    "from nltk.tokenize import word_tokenize\n",
    "from nltk.stem import WordNetLemmatizer\n",
    "\n",
    "# Initialize the lemmatizer\n",
    "lemmatizer = WordNetLemmatizer()\n",
    "\n",
    "def lemmatize_text(text: str) -> list[str]:\n",
    "    \n",
    "      #normalizing curly apostrophes\n",
    "    text = text.replace(\"’\", \"'\").replace(\"‘\", \"'\")\n",
    "    # Removing multi-dots to a single space (...)\n",
    "    text = re.sub(r'\\.{2,}', ' ', text)\n",
    "    # Replacing hyphens/slashes with spaces (so “cross-road” → “cross road”)\n",
    "    text = re.sub(r'[-/]', ' ', text)\n",
    "    # Removing all punctuation except apostrophes\n",
    "    # Keeping letters, numbers, whitespace, and apostrophes for contractions/possessives\n",
    "    text = re.sub(r\"[^\\w\\s']+\", '', text)\n",
    "    # Normalizing whitespace and lowercasing\n",
    "    text = re.sub(r'\\s+', ' ', text).strip().lower()\n",
    "    \n",
    "    # Tokenize the text into words\n",
    "    tokens = word_tokenize(text.lower())  # Convert to lowercase for consistency\n",
    "    # Lemmatize each word\n",
    "    lemmatized_tokens = [lemmatizer.lemmatize(token) for token in tokens]\n",
    "    # Return the list of lemmatized tokens\n",
    "    return lemmatized_tokens"
   ]
  },
  {
   "cell_type": "markdown",
   "id": "849c0877",
   "metadata": {},
   "source": [
    "Initializing BM25 model for retrieval"
   ]
  },
  {
   "cell_type": "code",
   "execution_count": 7,
   "id": "027f4445",
   "metadata": {},
   "outputs": [],
   "source": [
    "from rank_bm25 import BM25Okapi\n",
    "\n",
    "# Create a list of lemmatized texts for BM25\n",
    "Corpus = [lemmatize_text(chunk['text']) for chunk in all_chunks]\n",
    "\n",
    "# Initialize BM25 with the corpus for ranking and retrieval\n",
    "bm25 = BM25Okapi(Corpus)"
   ]
  },
  {
   "cell_type": "markdown",
   "id": "c3ac891b",
   "metadata": {},
   "source": [
    "Calling OpenAPI GPT model for text generation"
   ]
  },
  {
   "cell_type": "code",
   "execution_count": 8,
   "id": "d8169235",
   "metadata": {},
   "outputs": [],
   "source": [
    "import openai\n",
    "from openai import OpenAI\n",
    "import os\n",
    "\n",
    "#  OpenAI API key\n",
    "\n",
    "client = OpenAI(api_key = os.environ.get(\"OPENAI_API_KEY\")) #Using environmental variable\n",
    "\n",
    "#generate text\n",
    "def generate_text(prompt: str) -> str:\n",
    "    \"\"\"Generates text using the OpenAI API based on the provided prompt.\"\"\"\n",
    "    \n",
    "    # Make the API call\n",
    "    response = client.chat.completions.create(\n",
    "        model=\"gpt-4.1-mini\",  \n",
    "        messages=[{\"role\": \"system\", \"content\": \"You are a creative short story writer who writes stories in a specified book/novel style and answer questions based on it.\"},\n",
    "                  {\"role\": \"user\", \"content\": prompt}],\n",
    "        temperature=0.7,  # Adjust temperature for creativity\n",
    "    )\n",
    "    \n",
    "    return response.choices[0].message.content.strip()"
   ]
  },
  {
   "cell_type": "code",
   "execution_count": 43,
   "id": "1c2f1f53",
   "metadata": {},
   "outputs": [
    {
     "name": "stdout",
     "output_type": "stream",
     "text": [
      "In Harper Lee’s *To Kill a Mockingbird*, Jem Finch was going through a significant period of growth and change. As the story progresses, Jem is transitioning from childhood innocence to a more mature understanding of the complexities and injustices of the world around him. A pivotal moment occurs after the trial of Tom Robinson, which profoundly affects Jem. He becomes more introspective and sensitive to the harsh realities of racial prejudice and moral injustice in Maycomb. Physically, Jem is also growing; he is entering adolescence, which is symbolized by his increasing height and changing demeanor. This combination of emotional and physical changes marks Jem's journey from innocence toward a more nuanced awareness of human nature.\n"
     ]
    }
   ],
   "source": [
    "generated_text = generate_text(\"In the novel 'To Kill a Mockingbird' what was happening to Jem?\") \n",
    "print(generated_text)"
   ]
  },
  {
   "cell_type": "markdown",
   "id": "4e017b9b",
   "metadata": {},
   "source": [
    "Getting the BM25 Scores for similar chapters in the book"
   ]
  },
  {
   "cell_type": "code",
   "execution_count": 44,
   "id": "c40d5299",
   "metadata": {},
   "outputs": [
    {
     "data": {
      "text/plain": [
       "array([ 98.7220466 ,  90.72477608,  96.47450683,  95.14690003,\n",
       "        94.70372706, 103.06786598,  98.2969916 ,  99.44929065,\n",
       "        99.01782965, 102.59853573,  99.39220491, 107.05644593,\n",
       "        94.48971305,  89.87422017,  97.69095096,  97.5496668 ,\n",
       "       104.8050023 ,  99.3182528 ,  97.19683528,  94.58532075,\n",
       "        90.92454766,  97.23154182,  92.69201662, 104.65789982,\n",
       "        98.27764103, 103.75771698, 101.2245161 ,  99.57127811,\n",
       "        98.04281004,  95.74720237,  89.42983244, 112.91130489,\n",
       "        99.33911987, 101.83368664,  96.15369127,  96.63515757,\n",
       "       101.56038172, 109.2237855 , 104.85171126, 103.09376455,\n",
       "       101.9626496 ,  91.61552912, 100.41757886, 104.05405183,\n",
       "       100.06298042,  97.10875715, 100.41127465, 101.68354129,\n",
       "        94.94807847, 100.47735925,  95.84878744,  98.20306462,\n",
       "       100.72037095,  97.59938077, 110.31585604, 106.08249451,\n",
       "       101.1409402 , 100.15149234,  92.45201639,  97.09579148,\n",
       "        96.22743878,  87.21772156, 111.42336058, 110.01980134,\n",
       "       106.94310857, 100.28288901, 100.1148794 ,  96.04061851,\n",
       "        99.41010829,  96.88135693, 101.26352997, 102.09240378,\n",
       "        96.21798376, 103.8992213 , 104.06413569,  96.41431034,\n",
       "       100.20198306, 102.62980812, 100.00050158,  96.88645393,\n",
       "        95.5660588 ,  99.00396431,  91.26753334,  92.63847547,\n",
       "        94.51348371, 101.62881431, 110.39440696, 105.88584766,\n",
       "       105.53796939,  96.48399239,  94.60363246, 107.50986464,\n",
       "       100.86901814, 100.59928621,  99.07951788,  91.62116211,\n",
       "        97.10477557,  94.18774855,  98.58923542, 100.38409381,\n",
       "       106.14638291, 107.8092678 , 108.01303353,  99.83179471,\n",
       "       103.8530317 , 111.12982885, 108.39960467, 101.51264041,\n",
       "        89.9286387 ,  99.84956738, 104.47894314, 107.05313912,\n",
       "        99.30078944, 102.96009718, 102.56057198,  99.93863563,\n",
       "        96.78386496,  92.43039551])"
      ]
     },
     "execution_count": 44,
     "metadata": {},
     "output_type": "execute_result"
    }
   ],
   "source": [
    "processed_query = lemmatize_text(generated_text)\n",
    "\n",
    "doc_scores = bm25.get_scores(processed_query)\n",
    "\n",
    "\n",
    "doc_scores"
   ]
  },
  {
   "cell_type": "code",
   "execution_count": 45,
   "id": "5c307f3f",
   "metadata": {},
   "outputs": [
    {
     "name": "stdout",
     "output_type": "stream",
     "text": [
      "Found top 2 matching chunks:\n",
      "\n",
      "Rank 1:\n",
      "'chapter': 9, 'paragraph_Id': 9_1, 'bm25_score': 112.9113\n",
      "--------------------------------------------------------------------------------\n",
      "Rank 2:\n",
      "'chapter': 15, 'paragraph_Id': 15_1, 'bm25_score': 111.4234\n",
      "--------------------------------------------------------------------------------\n",
      "Rank 3:\n",
      "'chapter': 28, 'paragraph_Id': 28_1, 'bm25_score': 111.1298\n",
      "--------------------------------------------------------------------------------\n",
      "Rank 4:\n",
      "'chapter': 20, 'paragraph_Id': 20_2, 'bm25_score': 110.3944\n",
      "--------------------------------------------------------------------------------\n",
      "Rank 5:\n",
      "'chapter': 13, 'paragraph_Id': 13_1, 'bm25_score': 110.3159\n",
      "--------------------------------------------------------------------------------\n",
      "Rank 6:\n",
      "'chapter': 15, 'paragraph_Id': 15_2, 'bm25_score': 110.0198\n",
      "--------------------------------------------------------------------------------\n",
      "Rank 7:\n",
      "'chapter': 10, 'paragraph_Id': 10_1, 'bm25_score': 109.2238\n",
      "--------------------------------------------------------------------------------\n",
      "Rank 8:\n",
      "'chapter': 28, 'paragraph_Id': 28_2, 'bm25_score': 108.3996\n",
      "--------------------------------------------------------------------------------\n",
      "Rank 9:\n",
      "'chapter': 26, 'paragraph_Id': 26_2, 'bm25_score': 108.0130\n",
      "--------------------------------------------------------------------------------\n",
      "Rank 10:\n",
      "'chapter': 26, 'paragraph_Id': 26_1, 'bm25_score': 107.8093\n",
      "--------------------------------------------------------------------------------\n"
     ]
    }
   ],
   "source": [
    "# Get the top 2 indices (not the token lists)\n",
    "top_indices = doc_scores.argsort()[-10:][::-1]  # Get indices of top 10 scores in descending order\n",
    "\n",
    "print(f\"Found top 2 matching chunks:\\n\")\n",
    "\n",
    "for rank, idx in enumerate(top_indices):\n",
    "    chunk = all_chunks[idx]\n",
    "    bm25_score = doc_scores[idx]\n",
    "    \n",
    "    print(f\"Rank {rank + 1}:\")\n",
    "    print(f\"'chapter': {chunk['chapter']}, 'paragraph_Id': {chunk['chunk_id']}, 'bm25_score': {bm25_score:.4f}\")\n",
    "   # print(f\"'text': {chunk['text']}\")\n",
    "    print(\"-\" * 80)"
   ]
  },
  {
   "cell_type": "markdown",
   "id": "a9c9631f",
   "metadata": {},
   "source": [
    "Evaluation"
   ]
  },
  {
   "cell_type": "code",
   "execution_count": 33,
   "id": "e3ed1042",
   "metadata": {},
   "outputs": [],
   "source": [
    "import numpy as np\n",
    "#calculate precision at k\n",
    "def calculate_precision_at_k(retrieved, relevant, k):\n",
    "    retrieved = retrieved[:k]\n",
    "    relevant_set = set(relevant)\n",
    "    num_relevant_retrieved = sum(1 for doc in retrieved if doc in relevant_set)\n",
    "    return num_relevant_retrieved / k if k > 0 else 0.0\n",
    "\n",
    "#calculate recall at k\n",
    "def calculate_recall_at_k(retrieved, relevant, k):\n",
    "    retrieved = retrieved[:k]\n",
    "    relevant_set = set(relevant)\n",
    "    num_relevant_retrieved = sum(1 for doc in retrieved if doc in relevant_set)\n",
    "    return num_relevant_retrieved / len(relevant_set) if relevant_set else 0.0\n",
    "\n",
    "#calculate f1 score at k\n",
    "def calculate_f1_at_k(retrieved, relevant, k):\n",
    "    precision = calculate_precision_at_k(retrieved, relevant, k)\n",
    "    recall = calculate_recall_at_k(retrieved, relevant, k)\n",
    "    if precision + recall > 0:\n",
    "        return 2 * (precision * recall) / (precision + recall)\n",
    "    return 0.0\n",
    "\n",
    "#calculate MRR\n",
    "def calculate_mrr(retrieved, relevant):\n",
    "    mrr = 0.0\n",
    "    for i, doc in enumerate(retrieved):\n",
    "        if doc in relevant:\n",
    "            mrr = 1 / (i + 1)\n",
    "            break\n",
    "    return mrr\n",
    "\n",
    "#Calculate nDCG\n",
    "def calculate_ndcg(retrieved, relevant):\n",
    "    dcg = 0.0\n",
    "    idcg = 0.0\n",
    "    for i, doc in enumerate(retrieved):\n",
    "        if doc in relevant:\n",
    "            dcg += 1 / (np.log2(i + 2))\n",
    "    for i, doc in enumerate(relevant):\n",
    "        idcg += 1 / (np.log2(i + 2))\n",
    "    return dcg / idcg if idcg > 0 else 0.0\n",
    "\n",
    "#calculate accuracy\n",
    "def calculate_accuracy(retrieved, relevant):\n",
    "    relevant_set = set(relevant)\n",
    "    num_correct = sum(1 for doc in retrieved if doc in relevant_set)\n",
    "    return num_correct / len(relevant_set) if relevant_set else 0.0\n",
    "\n",
    "def calculate_map(retrieved, relevant, K):\n",
    "    ap_sum = 0.0\n",
    "    for i in range(1, K + 1):\n",
    "        ap_sum += calculate_precision_at_k(retrieved, relevant, i)\n",
    "    return ap_sum / K if K > 0 else 0.0"
   ]
  },
  {
   "cell_type": "code",
   "execution_count": 35,
   "id": "d227aa92",
   "metadata": {},
   "outputs": [],
   "source": [
    "relevant_docs = {\"1_1\",\"7_1\", \"9_18\", \"12_1\", \"28_15\",\"10_1\", \"26_8\", \"30_4\", \"11_8\", \"15_11\"}  # relevant doc ids for a single query\n",
    "# top_indices contains integer indices into all_chunks; use those to extract chunk_ids\n",
    "retrieved_docs = [all_chunks[idx][\"chunk_id\"] for idx in top_indices]  # retrieved doc ids from the search results\n"
   ]
  },
  {
   "cell_type": "code",
   "execution_count": 36,
   "id": "ddd14f8d",
   "metadata": {},
   "outputs": [
    {
     "name": "stdout",
     "output_type": "stream",
     "text": [
      "Precision at k 5: 0.0\n",
      "Precision at k 10: 0.1\n",
      "Recall at k 5: 0.0\n",
      "Recall at k 10: 0.1\n",
      "F1 at k 5: 0.0\n",
      "F1 at k 10: 0.10000000000000002\n",
      "MAP: 0.047896825396825396\n",
      "MRR: 0.14285714285714285\n",
      "nDCG: 0.07336392209936005\n",
      "Accuracy: 0.1\n"
     ]
    }
   ],
   "source": [
    "print(\"Precision at k 5:\", calculate_precision_at_k(retrieved_docs, relevant_docs, k=5))\n",
    "print(\"Precision at k 10:\", calculate_precision_at_k(retrieved_docs, relevant_docs, k=10))\n",
    "\n",
    "print(\"Recall at k 5:\", calculate_recall_at_k(retrieved_docs, relevant_docs, k=5))\n",
    "print(\"Recall at k 10:\", calculate_recall_at_k(retrieved_docs, relevant_docs, k=10))\n",
    "\n",
    "\n",
    "print(\"F1 at k 5:\", calculate_f1_at_k(retrieved_docs, relevant_docs, k=5))\n",
    "print(\"F1 at k 10:\", calculate_f1_at_k(retrieved_docs, relevant_docs, k=10))\n",
    "\n",
    "print(\"MAP:\", calculate_map(retrieved_docs, relevant_docs, K=10))\n",
    "\n",
    "print(\"MRR:\", calculate_mrr(retrieved_docs, relevant_docs))\n",
    "print(\"nDCG:\", calculate_ndcg(retrieved_docs, relevant_docs))\n",
    "print(\"Accuracy:\", calculate_accuracy(retrieved_docs, relevant_docs))"
   ]
  },
  {
   "cell_type": "code",
   "execution_count": 27,
   "id": "d9b303fc",
   "metadata": {},
   "outputs": [
    {
     "data": {
      "image/png": "[encoded data removed]",
      "text/plain": [
       "<Figure size 1000x600 with 1 Axes>"
      ]
     },
     "metadata": {},
     "output_type": "display_data"
    }
   ],
   "source": [
    "#plot the results including accuracy\n",
    "import matplotlib.pyplot as plt\n",
    "\n",
    "metrics = {\n",
    "    \"Precision at k 5\": calculate_precision_at_k(retrieved_docs, relevant_docs, k=5),\n",
    "    \"Precision at k 10\": calculate_precision_at_k(retrieved_docs, relevant_docs, k=10),\n",
    "    \"Recall at k 5\": calculate_recall_at_k(retrieved_docs, relevant_docs, k=5),\n",
    "    \"Recall at k 10\": calculate_recall_at_k(retrieved_docs, relevant_docs, k=10),\n",
    "    \"F1 at k 5\": calculate_f1_at_k(retrieved_docs, relevant_docs, k=5),\n",
    "    \"F1 at k 10\": calculate_f1_at_k(retrieved_docs, relevant_docs, k=10),\n",
    "    \"MRR\": calculate_mrr(retrieved_docs, relevant_docs),\n",
    "    \"nDCG\": calculate_ndcg(retrieved_docs, relevant_docs),\n",
    "    \"Accuracy\": calculate_accuracy(retrieved_docs, relevant_docs)\n",
    "}\n",
    "\n",
    "plt.figure(figsize=(10, 6))\n",
    "plt.barh(list(metrics.keys()), list(metrics.values()), color='skyblue')\n",
    "plt.xlabel('Score')\n",
    "plt.title('Evaluation Metrics')\n",
    "plt.grid(axis='x')\n",
    "plt.show()"
   ]
  }
 ],
 "metadata": {
  "kernelspec": {
   "display_name": "Python 3",
   "language": "python",
   "name": "python3"
  },
  "language_info": {
   "codemirror_mode": {
    "name": "ipython",
    "version": 3
   },
   "file_extension": ".py",
   "mimetype": "text/x-python",
   "name": "python",
   "nbconvert_exporter": "python",
   "pygments_lexer": "ipython3",
   "version": "3.11.9"
  }
 },
 "nbformat": 4,
 "nbformat_minor": 5
}
